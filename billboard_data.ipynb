{
 "cells": [
  {
   "cell_type": "markdown",
   "id": "3dfee1cb",
   "metadata": {},
   "source": [
    "### <font color=\"magenta\"> Get Data"
   ]
  },
  {
   "cell_type": "code",
   "execution_count": 23,
   "id": "2cdbdc47",
   "metadata": {},
   "outputs": [
    {
     "name": "stdout",
     "output_type": "stream",
     "text": [
      "time: 476 µs (started: 2021-12-08 22:23:16 -05:00)\n"
     ]
    }
   ],
   "source": [
    "import pandas as pd"
   ]
  },
  {
   "cell_type": "code",
   "execution_count": 24,
   "id": "fe66eaef",
   "metadata": {},
   "outputs": [
    {
     "name": "stdout",
     "output_type": "stream",
     "text": [
      "time: 461 µs (started: 2021-12-08 22:23:17 -05:00)\n"
     ]
    }
   ],
   "source": [
    "import sqlite3"
   ]
  },
  {
   "cell_type": "code",
   "execution_count": 25,
   "id": "1d8d4516",
   "metadata": {},
   "outputs": [
    {
     "name": "stdout",
     "output_type": "stream",
     "text": [
      "time: 305 ms (started: 2021-12-08 22:23:17 -05:00)\n"
     ]
    }
   ],
   "source": [
    "#billboard = pd.read_csv(\"../charts.csv\")\n",
    "\n",
    "#below is my path - kate\n",
    "billboard = pd.read_csv(\"charts.csv\")"
   ]
  },
  {
   "cell_type": "markdown",
   "id": "bb6dbc7f",
   "metadata": {},
   "source": [
    "The file charts.csv is 18.2mb with 330,087 observations."
   ]
  },
  {
   "cell_type": "code",
   "execution_count": 26,
   "id": "5ede22bf",
   "metadata": {},
   "outputs": [
    {
     "data": {
      "text/html": [
       "<div>\n",
       "<style scoped>\n",
       "    .dataframe tbody tr th:only-of-type {\n",
       "        vertical-align: middle;\n",
       "    }\n",
       "\n",
       "    .dataframe tbody tr th {\n",
       "        vertical-align: top;\n",
       "    }\n",
       "\n",
       "    .dataframe thead th {\n",
       "        text-align: right;\n",
       "    }\n",
       "</style>\n",
       "<table border=\"1\" class=\"dataframe\">\n",
       "  <thead>\n",
       "    <tr style=\"text-align: right;\">\n",
       "      <th></th>\n",
       "      <th>date</th>\n",
       "      <th>rank</th>\n",
       "      <th>song</th>\n",
       "      <th>artist</th>\n",
       "      <th>last-week</th>\n",
       "      <th>peak-rank</th>\n",
       "      <th>weeks-on-board</th>\n",
       "    </tr>\n",
       "  </thead>\n",
       "  <tbody>\n",
       "    <tr>\n",
       "      <th>0</th>\n",
       "      <td>2021-11-06</td>\n",
       "      <td>1</td>\n",
       "      <td>Easy On Me</td>\n",
       "      <td>Adele</td>\n",
       "      <td>1.0</td>\n",
       "      <td>1</td>\n",
       "      <td>3</td>\n",
       "    </tr>\n",
       "    <tr>\n",
       "      <th>1</th>\n",
       "      <td>2021-11-06</td>\n",
       "      <td>2</td>\n",
       "      <td>Stay</td>\n",
       "      <td>The Kid LAROI &amp; Justin Bieber</td>\n",
       "      <td>2.0</td>\n",
       "      <td>1</td>\n",
       "      <td>16</td>\n",
       "    </tr>\n",
       "    <tr>\n",
       "      <th>2</th>\n",
       "      <td>2021-11-06</td>\n",
       "      <td>3</td>\n",
       "      <td>Industry Baby</td>\n",
       "      <td>Lil Nas X &amp; Jack Harlow</td>\n",
       "      <td>3.0</td>\n",
       "      <td>1</td>\n",
       "      <td>14</td>\n",
       "    </tr>\n",
       "    <tr>\n",
       "      <th>3</th>\n",
       "      <td>2021-11-06</td>\n",
       "      <td>4</td>\n",
       "      <td>Fancy Like</td>\n",
       "      <td>Walker Hayes</td>\n",
       "      <td>4.0</td>\n",
       "      <td>3</td>\n",
       "      <td>19</td>\n",
       "    </tr>\n",
       "    <tr>\n",
       "      <th>4</th>\n",
       "      <td>2021-11-06</td>\n",
       "      <td>5</td>\n",
       "      <td>Bad Habits</td>\n",
       "      <td>Ed Sheeran</td>\n",
       "      <td>5.0</td>\n",
       "      <td>2</td>\n",
       "      <td>18</td>\n",
       "    </tr>\n",
       "    <tr>\n",
       "      <th>...</th>\n",
       "      <td>...</td>\n",
       "      <td>...</td>\n",
       "      <td>...</td>\n",
       "      <td>...</td>\n",
       "      <td>...</td>\n",
       "      <td>...</td>\n",
       "      <td>...</td>\n",
       "    </tr>\n",
       "    <tr>\n",
       "      <th>330082</th>\n",
       "      <td>1958-08-04</td>\n",
       "      <td>96</td>\n",
       "      <td>Over And Over</td>\n",
       "      <td>Thurston Harris</td>\n",
       "      <td>NaN</td>\n",
       "      <td>96</td>\n",
       "      <td>1</td>\n",
       "    </tr>\n",
       "    <tr>\n",
       "      <th>330083</th>\n",
       "      <td>1958-08-04</td>\n",
       "      <td>97</td>\n",
       "      <td>I Believe In You</td>\n",
       "      <td>Robert &amp; Johnny</td>\n",
       "      <td>NaN</td>\n",
       "      <td>97</td>\n",
       "      <td>1</td>\n",
       "    </tr>\n",
       "    <tr>\n",
       "      <th>330084</th>\n",
       "      <td>1958-08-04</td>\n",
       "      <td>98</td>\n",
       "      <td>Little Serenade</td>\n",
       "      <td>The Ames Brothers</td>\n",
       "      <td>NaN</td>\n",
       "      <td>98</td>\n",
       "      <td>1</td>\n",
       "    </tr>\n",
       "    <tr>\n",
       "      <th>330085</th>\n",
       "      <td>1958-08-04</td>\n",
       "      <td>99</td>\n",
       "      <td>I'll Get By (As Long As I Have You)</td>\n",
       "      <td>Billy Williams</td>\n",
       "      <td>NaN</td>\n",
       "      <td>99</td>\n",
       "      <td>1</td>\n",
       "    </tr>\n",
       "    <tr>\n",
       "      <th>330086</th>\n",
       "      <td>1958-08-04</td>\n",
       "      <td>100</td>\n",
       "      <td>Judy</td>\n",
       "      <td>Frankie Vaughan</td>\n",
       "      <td>NaN</td>\n",
       "      <td>100</td>\n",
       "      <td>1</td>\n",
       "    </tr>\n",
       "  </tbody>\n",
       "</table>\n",
       "<p>330087 rows × 7 columns</p>\n",
       "</div>"
      ],
      "text/plain": [
       "              date  rank                                 song  \\\n",
       "0       2021-11-06     1                           Easy On Me   \n",
       "1       2021-11-06     2                                 Stay   \n",
       "2       2021-11-06     3                        Industry Baby   \n",
       "3       2021-11-06     4                           Fancy Like   \n",
       "4       2021-11-06     5                           Bad Habits   \n",
       "...            ...   ...                                  ...   \n",
       "330082  1958-08-04    96                        Over And Over   \n",
       "330083  1958-08-04    97                     I Believe In You   \n",
       "330084  1958-08-04    98                      Little Serenade   \n",
       "330085  1958-08-04    99  I'll Get By (As Long As I Have You)   \n",
       "330086  1958-08-04   100                                 Judy   \n",
       "\n",
       "                               artist  last-week  peak-rank  weeks-on-board  \n",
       "0                               Adele        1.0          1               3  \n",
       "1       The Kid LAROI & Justin Bieber        2.0          1              16  \n",
       "2             Lil Nas X & Jack Harlow        3.0          1              14  \n",
       "3                        Walker Hayes        4.0          3              19  \n",
       "4                          Ed Sheeran        5.0          2              18  \n",
       "...                               ...        ...        ...             ...  \n",
       "330082                Thurston Harris        NaN         96               1  \n",
       "330083                Robert & Johnny        NaN         97               1  \n",
       "330084              The Ames Brothers        NaN         98               1  \n",
       "330085                 Billy Williams        NaN         99               1  \n",
       "330086                Frankie Vaughan        NaN        100               1  \n",
       "\n",
       "[330087 rows x 7 columns]"
      ]
     },
     "execution_count": 26,
     "metadata": {},
     "output_type": "execute_result"
    },
    {
     "name": "stdout",
     "output_type": "stream",
     "text": [
      "time: 16.7 ms (started: 2021-12-08 22:23:19 -05:00)\n"
     ]
    }
   ],
   "source": [
    "billboard"
   ]
  },
  {
   "cell_type": "code",
   "execution_count": 27,
   "id": "37b8a76a",
   "metadata": {},
   "outputs": [
    {
     "name": "stdout",
     "output_type": "stream",
     "text": [
      "time: 141 ms (started: 2021-12-08 22:23:24 -05:00)\n"
     ]
    }
   ],
   "source": [
    "#con = sqlite3.connect(\"../database.sqlite\")\n",
    "con = sqlite3.connect(\"database.sqlite\")\n",
    "\n",
    "# Load the data into a DataFrame\n",
    "reviews_df = pd.read_sql_query(\"SELECT * from reviews\", con)\n",
    "\n",
    "# Select only data for 2002\n",
    "#surveys2002 = surveys_df[surveys_df.year == 2002]\n",
    "\n",
    "# Write the new DataFrame to a new SQLite table\n",
    "#surveys2002.to_sql(\"surveys2002\", con, if_exists=\"replace\")\n",
    "\n",
    "con.close()"
   ]
  },
  {
   "cell_type": "code",
   "execution_count": 28,
   "id": "28f0b21e",
   "metadata": {},
   "outputs": [
    {
     "data": {
      "text/plain": [
       "1913000"
      ]
     },
     "execution_count": 28,
     "metadata": {},
     "output_type": "execute_result"
    },
    {
     "name": "stdout",
     "output_type": "stream",
     "text": [
      "time: 7.6 ms (started: 2021-12-08 22:23:25 -05:00)\n"
     ]
    }
   ],
   "source": [
    "reviews_df.memory_usage(index=True).sum()"
   ]
  },
  {
   "cell_type": "markdown",
   "id": "442720a3",
   "metadata": {},
   "source": [
    "The sql data is 1.92mb with 18,393 observations."
   ]
  },
  {
   "cell_type": "code",
   "execution_count": 29,
   "id": "ddbc6c79",
   "metadata": {},
   "outputs": [
    {
     "data": {
      "text/html": [
       "<div>\n",
       "<style scoped>\n",
       "    .dataframe tbody tr th:only-of-type {\n",
       "        vertical-align: middle;\n",
       "    }\n",
       "\n",
       "    .dataframe tbody tr th {\n",
       "        vertical-align: top;\n",
       "    }\n",
       "\n",
       "    .dataframe thead th {\n",
       "        text-align: right;\n",
       "    }\n",
       "</style>\n",
       "<table border=\"1\" class=\"dataframe\">\n",
       "  <thead>\n",
       "    <tr style=\"text-align: right;\">\n",
       "      <th></th>\n",
       "      <th>reviewid</th>\n",
       "      <th>title</th>\n",
       "      <th>artist</th>\n",
       "      <th>url</th>\n",
       "      <th>score</th>\n",
       "      <th>best_new_music</th>\n",
       "      <th>author</th>\n",
       "      <th>author_type</th>\n",
       "      <th>pub_date</th>\n",
       "      <th>pub_weekday</th>\n",
       "      <th>pub_day</th>\n",
       "      <th>pub_month</th>\n",
       "      <th>pub_year</th>\n",
       "    </tr>\n",
       "  </thead>\n",
       "  <tbody>\n",
       "    <tr>\n",
       "      <th>0</th>\n",
       "      <td>22703</td>\n",
       "      <td>mezzanine</td>\n",
       "      <td>massive attack</td>\n",
       "      <td>http://pitchfork.com/reviews/albums/22703-mezz...</td>\n",
       "      <td>9.3</td>\n",
       "      <td>0</td>\n",
       "      <td>nate patrin</td>\n",
       "      <td>contributor</td>\n",
       "      <td>2017-01-08</td>\n",
       "      <td>6</td>\n",
       "      <td>8</td>\n",
       "      <td>1</td>\n",
       "      <td>2017</td>\n",
       "    </tr>\n",
       "    <tr>\n",
       "      <th>1</th>\n",
       "      <td>22721</td>\n",
       "      <td>prelapsarian</td>\n",
       "      <td>krallice</td>\n",
       "      <td>http://pitchfork.com/reviews/albums/22721-prel...</td>\n",
       "      <td>7.9</td>\n",
       "      <td>0</td>\n",
       "      <td>zoe camp</td>\n",
       "      <td>contributor</td>\n",
       "      <td>2017-01-07</td>\n",
       "      <td>5</td>\n",
       "      <td>7</td>\n",
       "      <td>1</td>\n",
       "      <td>2017</td>\n",
       "    </tr>\n",
       "    <tr>\n",
       "      <th>2</th>\n",
       "      <td>22659</td>\n",
       "      <td>all of them naturals</td>\n",
       "      <td>uranium club</td>\n",
       "      <td>http://pitchfork.com/reviews/albums/22659-all-...</td>\n",
       "      <td>7.3</td>\n",
       "      <td>0</td>\n",
       "      <td>david glickman</td>\n",
       "      <td>contributor</td>\n",
       "      <td>2017-01-07</td>\n",
       "      <td>5</td>\n",
       "      <td>7</td>\n",
       "      <td>1</td>\n",
       "      <td>2017</td>\n",
       "    </tr>\n",
       "    <tr>\n",
       "      <th>3</th>\n",
       "      <td>22661</td>\n",
       "      <td>first songs</td>\n",
       "      <td>kleenex, liliput</td>\n",
       "      <td>http://pitchfork.com/reviews/albums/22661-firs...</td>\n",
       "      <td>9.0</td>\n",
       "      <td>1</td>\n",
       "      <td>jenn pelly</td>\n",
       "      <td>associate reviews editor</td>\n",
       "      <td>2017-01-06</td>\n",
       "      <td>4</td>\n",
       "      <td>6</td>\n",
       "      <td>1</td>\n",
       "      <td>2017</td>\n",
       "    </tr>\n",
       "    <tr>\n",
       "      <th>4</th>\n",
       "      <td>22725</td>\n",
       "      <td>new start</td>\n",
       "      <td>taso</td>\n",
       "      <td>http://pitchfork.com/reviews/albums/22725-new-...</td>\n",
       "      <td>8.1</td>\n",
       "      <td>0</td>\n",
       "      <td>kevin lozano</td>\n",
       "      <td>tracks coordinator</td>\n",
       "      <td>2017-01-06</td>\n",
       "      <td>4</td>\n",
       "      <td>6</td>\n",
       "      <td>1</td>\n",
       "      <td>2017</td>\n",
       "    </tr>\n",
       "    <tr>\n",
       "      <th>...</th>\n",
       "      <td>...</td>\n",
       "      <td>...</td>\n",
       "      <td>...</td>\n",
       "      <td>...</td>\n",
       "      <td>...</td>\n",
       "      <td>...</td>\n",
       "      <td>...</td>\n",
       "      <td>...</td>\n",
       "      <td>...</td>\n",
       "      <td>...</td>\n",
       "      <td>...</td>\n",
       "      <td>...</td>\n",
       "      <td>...</td>\n",
       "    </tr>\n",
       "    <tr>\n",
       "      <th>18388</th>\n",
       "      <td>1535</td>\n",
       "      <td>let us replay!</td>\n",
       "      <td>coldcut</td>\n",
       "      <td>http://pitchfork.com/reviews/albums/1535-let-u...</td>\n",
       "      <td>8.9</td>\n",
       "      <td>0</td>\n",
       "      <td>james p. wisdom</td>\n",
       "      <td>None</td>\n",
       "      <td>1999-01-26</td>\n",
       "      <td>1</td>\n",
       "      <td>26</td>\n",
       "      <td>1</td>\n",
       "      <td>1999</td>\n",
       "    </tr>\n",
       "    <tr>\n",
       "      <th>18389</th>\n",
       "      <td>1341</td>\n",
       "      <td>1999</td>\n",
       "      <td>cassius</td>\n",
       "      <td>http://pitchfork.com/reviews/albums/1341-1999/</td>\n",
       "      <td>4.8</td>\n",
       "      <td>0</td>\n",
       "      <td>james p. wisdom</td>\n",
       "      <td>None</td>\n",
       "      <td>1999-01-26</td>\n",
       "      <td>1</td>\n",
       "      <td>26</td>\n",
       "      <td>1</td>\n",
       "      <td>1999</td>\n",
       "    </tr>\n",
       "    <tr>\n",
       "      <th>18390</th>\n",
       "      <td>5376</td>\n",
       "      <td>out of tune</td>\n",
       "      <td>mojave 3</td>\n",
       "      <td>http://pitchfork.com/reviews/albums/5376-out-o...</td>\n",
       "      <td>6.3</td>\n",
       "      <td>0</td>\n",
       "      <td>jason josephes</td>\n",
       "      <td>contributor</td>\n",
       "      <td>1999-01-12</td>\n",
       "      <td>1</td>\n",
       "      <td>12</td>\n",
       "      <td>1</td>\n",
       "      <td>1999</td>\n",
       "    </tr>\n",
       "    <tr>\n",
       "      <th>18391</th>\n",
       "      <td>2413</td>\n",
       "      <td>singles breaking up, vol. 1</td>\n",
       "      <td>don caballero</td>\n",
       "      <td>http://pitchfork.com/reviews/albums/2413-singl...</td>\n",
       "      <td>7.2</td>\n",
       "      <td>0</td>\n",
       "      <td>james p. wisdom</td>\n",
       "      <td>None</td>\n",
       "      <td>1999-01-12</td>\n",
       "      <td>1</td>\n",
       "      <td>12</td>\n",
       "      <td>1</td>\n",
       "      <td>1999</td>\n",
       "    </tr>\n",
       "    <tr>\n",
       "      <th>18392</th>\n",
       "      <td>3723</td>\n",
       "      <td>left for dead in malaysia</td>\n",
       "      <td>neil hamburger</td>\n",
       "      <td>http://pitchfork.com/reviews/albums/3723-left-...</td>\n",
       "      <td>6.5</td>\n",
       "      <td>0</td>\n",
       "      <td>jason josephes</td>\n",
       "      <td>contributor</td>\n",
       "      <td>1999-01-05</td>\n",
       "      <td>1</td>\n",
       "      <td>5</td>\n",
       "      <td>1</td>\n",
       "      <td>1999</td>\n",
       "    </tr>\n",
       "  </tbody>\n",
       "</table>\n",
       "<p>18393 rows × 13 columns</p>\n",
       "</div>"
      ],
      "text/plain": [
       "       reviewid                        title            artist  \\\n",
       "0         22703                    mezzanine    massive attack   \n",
       "1         22721                 prelapsarian          krallice   \n",
       "2         22659         all of them naturals      uranium club   \n",
       "3         22661                  first songs  kleenex, liliput   \n",
       "4         22725                    new start              taso   \n",
       "...         ...                          ...               ...   \n",
       "18388      1535               let us replay!           coldcut   \n",
       "18389      1341                         1999           cassius   \n",
       "18390      5376                  out of tune          mojave 3   \n",
       "18391      2413  singles breaking up, vol. 1     don caballero   \n",
       "18392      3723    left for dead in malaysia    neil hamburger   \n",
       "\n",
       "                                                     url  score  \\\n",
       "0      http://pitchfork.com/reviews/albums/22703-mezz...    9.3   \n",
       "1      http://pitchfork.com/reviews/albums/22721-prel...    7.9   \n",
       "2      http://pitchfork.com/reviews/albums/22659-all-...    7.3   \n",
       "3      http://pitchfork.com/reviews/albums/22661-firs...    9.0   \n",
       "4      http://pitchfork.com/reviews/albums/22725-new-...    8.1   \n",
       "...                                                  ...    ...   \n",
       "18388  http://pitchfork.com/reviews/albums/1535-let-u...    8.9   \n",
       "18389     http://pitchfork.com/reviews/albums/1341-1999/    4.8   \n",
       "18390  http://pitchfork.com/reviews/albums/5376-out-o...    6.3   \n",
       "18391  http://pitchfork.com/reviews/albums/2413-singl...    7.2   \n",
       "18392  http://pitchfork.com/reviews/albums/3723-left-...    6.5   \n",
       "\n",
       "       best_new_music           author               author_type    pub_date  \\\n",
       "0                   0      nate patrin               contributor  2017-01-08   \n",
       "1                   0         zoe camp               contributor  2017-01-07   \n",
       "2                   0   david glickman               contributor  2017-01-07   \n",
       "3                   1       jenn pelly  associate reviews editor  2017-01-06   \n",
       "4                   0     kevin lozano        tracks coordinator  2017-01-06   \n",
       "...               ...              ...                       ...         ...   \n",
       "18388               0  james p. wisdom                      None  1999-01-26   \n",
       "18389               0  james p. wisdom                      None  1999-01-26   \n",
       "18390               0   jason josephes               contributor  1999-01-12   \n",
       "18391               0  james p. wisdom                      None  1999-01-12   \n",
       "18392               0   jason josephes               contributor  1999-01-05   \n",
       "\n",
       "       pub_weekday  pub_day  pub_month  pub_year  \n",
       "0                6        8          1      2017  \n",
       "1                5        7          1      2017  \n",
       "2                5        7          1      2017  \n",
       "3                4        6          1      2017  \n",
       "4                4        6          1      2017  \n",
       "...            ...      ...        ...       ...  \n",
       "18388            1       26          1      1999  \n",
       "18389            1       26          1      1999  \n",
       "18390            1       12          1      1999  \n",
       "18391            1       12          1      1999  \n",
       "18392            1        5          1      1999  \n",
       "\n",
       "[18393 rows x 13 columns]"
      ]
     },
     "execution_count": 29,
     "metadata": {},
     "output_type": "execute_result"
    },
    {
     "name": "stdout",
     "output_type": "stream",
     "text": [
      "time: 22.5 ms (started: 2021-12-08 22:23:27 -05:00)\n"
     ]
    }
   ],
   "source": [
    "reviews_df"
   ]
  },
  {
   "cell_type": "markdown",
   "id": "ff1e4a0e",
   "metadata": {},
   "source": [
    "### <font color=\"magenta\"> Clean data to merge"
   ]
  },
  {
   "cell_type": "markdown",
   "id": "c90dbcee",
   "metadata": {},
   "source": [
    "**In this section, we applied functions lower and trip to the artist and song title columns to ensure we may match songs and artists appropriately, without missing any data**"
   ]
  },
  {
   "cell_type": "code",
   "execution_count": 30,
   "id": "c200664c",
   "metadata": {},
   "outputs": [
    {
     "name": "stdout",
     "output_type": "stream",
     "text": [
      "time: 142 ms (started: 2021-12-08 22:23:32 -05:00)\n"
     ]
    }
   ],
   "source": [
    "billboard['artist'] = billboard['artist'].apply(str.lower)\n",
    "billboard['artist'] = billboard['artist'].apply(str.strip)\n",
    "reviews_df['artist'] = reviews_df['artist'].apply(str.lower)\n",
    "reviews_df['artist'] = reviews_df['artist'].apply(str.strip)"
   ]
  },
  {
   "cell_type": "code",
   "execution_count": 31,
   "id": "5e48f9ca",
   "metadata": {},
   "outputs": [
    {
     "name": "stdout",
     "output_type": "stream",
     "text": [
      "time: 126 ms (started: 2021-12-08 22:23:32 -05:00)\n"
     ]
    }
   ],
   "source": [
    "billboard['song'] = billboard['song'].apply(str.lower)\n",
    "billboard['song'] = billboard['song'].apply(str.strip)\n",
    "reviews_df['title'] = reviews_df['title'].apply(str.lower)\n",
    "reviews_df['title'] = reviews_df['title'].apply(str.strip)"
   ]
  },
  {
   "cell_type": "markdown",
   "id": "e7db5897",
   "metadata": {},
   "source": [
    "### <font color=\"magenta\"> Merge"
   ]
  },
  {
   "cell_type": "markdown",
   "id": "eb428e07",
   "metadata": {},
   "source": [
    "**Here we performed an inner merge on the reviews_df (pitchfork data) and billboard df (billboard data). The merged dataframe is titled merge.**"
   ]
  },
  {
   "cell_type": "code",
   "execution_count": 32,
   "id": "a597d410",
   "metadata": {},
   "outputs": [
    {
     "name": "stdout",
     "output_type": "stream",
     "text": [
      "time: 108 ms (started: 2021-12-08 22:23:34 -05:00)\n"
     ]
    }
   ],
   "source": [
    "merge = reviews_df.merge(billboard, left_on = \"title\", right_on=\"song\", how=\"inner\")\n",
    "merge['artist'] = merge['artist_y']\n",
    "merge = merge.drop(['artist_x', 'artist_y','title','author_type'], axis=1)"
   ]
  },
  {
   "cell_type": "code",
   "execution_count": 33,
   "id": "79275672",
   "metadata": {
    "scrolled": true
   },
   "outputs": [
    {
     "data": {
      "text/html": [
       "<div>\n",
       "<style scoped>\n",
       "    .dataframe tbody tr th:only-of-type {\n",
       "        vertical-align: middle;\n",
       "    }\n",
       "\n",
       "    .dataframe tbody tr th {\n",
       "        vertical-align: top;\n",
       "    }\n",
       "\n",
       "    .dataframe thead th {\n",
       "        text-align: right;\n",
       "    }\n",
       "</style>\n",
       "<table border=\"1\" class=\"dataframe\">\n",
       "  <thead>\n",
       "    <tr style=\"text-align: right;\">\n",
       "      <th></th>\n",
       "      <th>reviewid</th>\n",
       "      <th>url</th>\n",
       "      <th>score</th>\n",
       "      <th>best_new_music</th>\n",
       "      <th>author</th>\n",
       "      <th>pub_date</th>\n",
       "      <th>pub_weekday</th>\n",
       "      <th>pub_day</th>\n",
       "      <th>pub_month</th>\n",
       "      <th>pub_year</th>\n",
       "      <th>date</th>\n",
       "      <th>rank</th>\n",
       "      <th>song</th>\n",
       "      <th>last-week</th>\n",
       "      <th>peak-rank</th>\n",
       "      <th>weeks-on-board</th>\n",
       "      <th>artist</th>\n",
       "    </tr>\n",
       "  </thead>\n",
       "  <tbody>\n",
       "    <tr>\n",
       "      <th>0</th>\n",
       "      <td>22696</td>\n",
       "      <td>http://pitchfork.com/reviews/albums/22696-4-yo...</td>\n",
       "      <td>6.7</td>\n",
       "      <td>0</td>\n",
       "      <td>paul a. thompson</td>\n",
       "      <td>2016-12-14</td>\n",
       "      <td>2</td>\n",
       "      <td>14</td>\n",
       "      <td>12</td>\n",
       "      <td>2016</td>\n",
       "      <td>2016-12-31</td>\n",
       "      <td>29</td>\n",
       "      <td>4 your eyez only</td>\n",
       "      <td>NaN</td>\n",
       "      <td>29</td>\n",
       "      <td>1</td>\n",
       "      <td>j. cole</td>\n",
       "    </tr>\n",
       "    <tr>\n",
       "      <th>1</th>\n",
       "      <td>22669</td>\n",
       "      <td>http://pitchfork.com/reviews/albums/22669-out-...</td>\n",
       "      <td>8.4</td>\n",
       "      <td>0</td>\n",
       "      <td>evan rytlewski</td>\n",
       "      <td>2016-12-02</td>\n",
       "      <td>4</td>\n",
       "      <td>2</td>\n",
       "      <td>12</td>\n",
       "      <td>2016</td>\n",
       "      <td>1975-09-06</td>\n",
       "      <td>81</td>\n",
       "      <td>out of time</td>\n",
       "      <td>85.0</td>\n",
       "      <td>81</td>\n",
       "      <td>3</td>\n",
       "      <td>the rolling stones</td>\n",
       "    </tr>\n",
       "    <tr>\n",
       "      <th>2</th>\n",
       "      <td>22669</td>\n",
       "      <td>http://pitchfork.com/reviews/albums/22669-out-...</td>\n",
       "      <td>8.4</td>\n",
       "      <td>0</td>\n",
       "      <td>evan rytlewski</td>\n",
       "      <td>2016-12-02</td>\n",
       "      <td>4</td>\n",
       "      <td>2</td>\n",
       "      <td>12</td>\n",
       "      <td>2016</td>\n",
       "      <td>1975-08-30</td>\n",
       "      <td>85</td>\n",
       "      <td>out of time</td>\n",
       "      <td>90.0</td>\n",
       "      <td>85</td>\n",
       "      <td>2</td>\n",
       "      <td>the rolling stones</td>\n",
       "    </tr>\n",
       "    <tr>\n",
       "      <th>3</th>\n",
       "      <td>22669</td>\n",
       "      <td>http://pitchfork.com/reviews/albums/22669-out-...</td>\n",
       "      <td>8.4</td>\n",
       "      <td>0</td>\n",
       "      <td>evan rytlewski</td>\n",
       "      <td>2016-12-02</td>\n",
       "      <td>4</td>\n",
       "      <td>2</td>\n",
       "      <td>12</td>\n",
       "      <td>2016</td>\n",
       "      <td>1975-08-23</td>\n",
       "      <td>90</td>\n",
       "      <td>out of time</td>\n",
       "      <td>NaN</td>\n",
       "      <td>90</td>\n",
       "      <td>1</td>\n",
       "      <td>the rolling stones</td>\n",
       "    </tr>\n",
       "    <tr>\n",
       "      <th>4</th>\n",
       "      <td>19985</td>\n",
       "      <td>http://pitchfork.com/reviews/albums/19985-houn...</td>\n",
       "      <td>6.8</td>\n",
       "      <td>0</td>\n",
       "      <td>paul thompson</td>\n",
       "      <td>2014-11-26</td>\n",
       "      <td>2</td>\n",
       "      <td>26</td>\n",
       "      <td>11</td>\n",
       "      <td>2014</td>\n",
       "      <td>1975-09-06</td>\n",
       "      <td>81</td>\n",
       "      <td>out of time</td>\n",
       "      <td>85.0</td>\n",
       "      <td>81</td>\n",
       "      <td>3</td>\n",
       "      <td>the rolling stones</td>\n",
       "    </tr>\n",
       "    <tr>\n",
       "      <th>...</th>\n",
       "      <td>...</td>\n",
       "      <td>...</td>\n",
       "      <td>...</td>\n",
       "      <td>...</td>\n",
       "      <td>...</td>\n",
       "      <td>...</td>\n",
       "      <td>...</td>\n",
       "      <td>...</td>\n",
       "      <td>...</td>\n",
       "      <td>...</td>\n",
       "      <td>...</td>\n",
       "      <td>...</td>\n",
       "      <td>...</td>\n",
       "      <td>...</td>\n",
       "      <td>...</td>\n",
       "      <td>...</td>\n",
       "      <td>...</td>\n",
       "    </tr>\n",
       "    <tr>\n",
       "      <th>22974</th>\n",
       "      <td>6709</td>\n",
       "      <td>http://pitchfork.com/reviews/albums/6709-calif...</td>\n",
       "      <td>6.8</td>\n",
       "      <td>0</td>\n",
       "      <td>brent dicrescenzo</td>\n",
       "      <td>1999-06-08</td>\n",
       "      <td>1</td>\n",
       "      <td>8</td>\n",
       "      <td>6</td>\n",
       "      <td>1999</td>\n",
       "      <td>2000-07-29</td>\n",
       "      <td>72</td>\n",
       "      <td>californication</td>\n",
       "      <td>NaN</td>\n",
       "      <td>72</td>\n",
       "      <td>1</td>\n",
       "      <td>red hot chili peppers</td>\n",
       "    </tr>\n",
       "    <tr>\n",
       "      <th>22975</th>\n",
       "      <td>7119</td>\n",
       "      <td>http://pitchfork.com/reviews/albums/7119-dna/</td>\n",
       "      <td>8.0</td>\n",
       "      <td>0</td>\n",
       "      <td>samir khan</td>\n",
       "      <td>1999-05-04</td>\n",
       "      <td>1</td>\n",
       "      <td>4</td>\n",
       "      <td>5</td>\n",
       "      <td>1999</td>\n",
       "      <td>2017-10-28</td>\n",
       "      <td>98</td>\n",
       "      <td>dna</td>\n",
       "      <td>87.0</td>\n",
       "      <td>67</td>\n",
       "      <td>4</td>\n",
       "      <td>bts</td>\n",
       "    </tr>\n",
       "    <tr>\n",
       "      <th>22976</th>\n",
       "      <td>7119</td>\n",
       "      <td>http://pitchfork.com/reviews/albums/7119-dna/</td>\n",
       "      <td>8.0</td>\n",
       "      <td>0</td>\n",
       "      <td>samir khan</td>\n",
       "      <td>1999-05-04</td>\n",
       "      <td>1</td>\n",
       "      <td>4</td>\n",
       "      <td>5</td>\n",
       "      <td>1999</td>\n",
       "      <td>2017-10-21</td>\n",
       "      <td>87</td>\n",
       "      <td>dna</td>\n",
       "      <td>67.0</td>\n",
       "      <td>67</td>\n",
       "      <td>3</td>\n",
       "      <td>bts</td>\n",
       "    </tr>\n",
       "    <tr>\n",
       "      <th>22977</th>\n",
       "      <td>7119</td>\n",
       "      <td>http://pitchfork.com/reviews/albums/7119-dna/</td>\n",
       "      <td>8.0</td>\n",
       "      <td>0</td>\n",
       "      <td>samir khan</td>\n",
       "      <td>1999-05-04</td>\n",
       "      <td>1</td>\n",
       "      <td>4</td>\n",
       "      <td>5</td>\n",
       "      <td>1999</td>\n",
       "      <td>2017-10-14</td>\n",
       "      <td>67</td>\n",
       "      <td>dna</td>\n",
       "      <td>85.0</td>\n",
       "      <td>67</td>\n",
       "      <td>2</td>\n",
       "      <td>bts</td>\n",
       "    </tr>\n",
       "    <tr>\n",
       "      <th>22978</th>\n",
       "      <td>7119</td>\n",
       "      <td>http://pitchfork.com/reviews/albums/7119-dna/</td>\n",
       "      <td>8.0</td>\n",
       "      <td>0</td>\n",
       "      <td>samir khan</td>\n",
       "      <td>1999-05-04</td>\n",
       "      <td>1</td>\n",
       "      <td>4</td>\n",
       "      <td>5</td>\n",
       "      <td>1999</td>\n",
       "      <td>2017-10-07</td>\n",
       "      <td>85</td>\n",
       "      <td>dna</td>\n",
       "      <td>NaN</td>\n",
       "      <td>85</td>\n",
       "      <td>1</td>\n",
       "      <td>bts</td>\n",
       "    </tr>\n",
       "  </tbody>\n",
       "</table>\n",
       "<p>22979 rows × 17 columns</p>\n",
       "</div>"
      ],
      "text/plain": [
       "       reviewid                                                url  score  \\\n",
       "0         22696  http://pitchfork.com/reviews/albums/22696-4-yo...    6.7   \n",
       "1         22669  http://pitchfork.com/reviews/albums/22669-out-...    8.4   \n",
       "2         22669  http://pitchfork.com/reviews/albums/22669-out-...    8.4   \n",
       "3         22669  http://pitchfork.com/reviews/albums/22669-out-...    8.4   \n",
       "4         19985  http://pitchfork.com/reviews/albums/19985-houn...    6.8   \n",
       "...         ...                                                ...    ...   \n",
       "22974      6709  http://pitchfork.com/reviews/albums/6709-calif...    6.8   \n",
       "22975      7119      http://pitchfork.com/reviews/albums/7119-dna/    8.0   \n",
       "22976      7119      http://pitchfork.com/reviews/albums/7119-dna/    8.0   \n",
       "22977      7119      http://pitchfork.com/reviews/albums/7119-dna/    8.0   \n",
       "22978      7119      http://pitchfork.com/reviews/albums/7119-dna/    8.0   \n",
       "\n",
       "       best_new_music             author    pub_date  pub_weekday  pub_day  \\\n",
       "0                   0   paul a. thompson  2016-12-14            2       14   \n",
       "1                   0     evan rytlewski  2016-12-02            4        2   \n",
       "2                   0     evan rytlewski  2016-12-02            4        2   \n",
       "3                   0     evan rytlewski  2016-12-02            4        2   \n",
       "4                   0      paul thompson  2014-11-26            2       26   \n",
       "...               ...                ...         ...          ...      ...   \n",
       "22974               0  brent dicrescenzo  1999-06-08            1        8   \n",
       "22975               0         samir khan  1999-05-04            1        4   \n",
       "22976               0         samir khan  1999-05-04            1        4   \n",
       "22977               0         samir khan  1999-05-04            1        4   \n",
       "22978               0         samir khan  1999-05-04            1        4   \n",
       "\n",
       "       pub_month  pub_year        date  rank              song  last-week  \\\n",
       "0             12      2016  2016-12-31    29  4 your eyez only        NaN   \n",
       "1             12      2016  1975-09-06    81       out of time       85.0   \n",
       "2             12      2016  1975-08-30    85       out of time       90.0   \n",
       "3             12      2016  1975-08-23    90       out of time        NaN   \n",
       "4             11      2014  1975-09-06    81       out of time       85.0   \n",
       "...          ...       ...         ...   ...               ...        ...   \n",
       "22974          6      1999  2000-07-29    72   californication        NaN   \n",
       "22975          5      1999  2017-10-28    98               dna       87.0   \n",
       "22976          5      1999  2017-10-21    87               dna       67.0   \n",
       "22977          5      1999  2017-10-14    67               dna       85.0   \n",
       "22978          5      1999  2017-10-07    85               dna        NaN   \n",
       "\n",
       "       peak-rank  weeks-on-board                 artist  \n",
       "0             29               1                j. cole  \n",
       "1             81               3     the rolling stones  \n",
       "2             85               2     the rolling stones  \n",
       "3             90               1     the rolling stones  \n",
       "4             81               3     the rolling stones  \n",
       "...          ...             ...                    ...  \n",
       "22974         72               1  red hot chili peppers  \n",
       "22975         67               4                    bts  \n",
       "22976         67               3                    bts  \n",
       "22977         67               2                    bts  \n",
       "22978         85               1                    bts  \n",
       "\n",
       "[22979 rows x 17 columns]"
      ]
     },
     "execution_count": 33,
     "metadata": {},
     "output_type": "execute_result"
    },
    {
     "name": "stdout",
     "output_type": "stream",
     "text": [
      "time: 31.4 ms (started: 2021-12-08 22:23:35 -05:00)\n"
     ]
    }
   ],
   "source": [
    "merge"
   ]
  },
  {
   "cell_type": "code",
   "execution_count": 34,
   "id": "bc9ff8a9",
   "metadata": {
    "scrolled": true
   },
   "outputs": [
    {
     "data": {
      "text/plain": [
       "3308976"
      ]
     },
     "execution_count": 34,
     "metadata": {},
     "output_type": "execute_result"
    },
    {
     "name": "stdout",
     "output_type": "stream",
     "text": [
      "time: 7.78 ms (started: 2021-12-08 22:23:41 -05:00)\n"
     ]
    }
   ],
   "source": [
    "merge.memory_usage(index=True).sum()"
   ]
  },
  {
   "cell_type": "markdown",
   "id": "39a6eb8d",
   "metadata": {},
   "source": [
    "The merge data is 3.31mb with 392 observations."
   ]
  },
  {
   "cell_type": "markdown",
   "id": "f8526356",
   "metadata": {},
   "source": [
    "### <font color=\"magenta\"> Change column order to read easier"
   ]
  },
  {
   "cell_type": "markdown",
   "id": "ef49a7a5",
   "metadata": {},
   "source": [
    "**To make merge more readable and easier to manipulate, we changed the order of the columns below**"
   ]
  },
  {
   "cell_type": "code",
   "execution_count": 35,
   "id": "69ac650e",
   "metadata": {},
   "outputs": [
    {
     "name": "stdout",
     "output_type": "stream",
     "text": [
      "time: 473 µs (started: 2021-12-08 22:24:10 -05:00)\n"
     ]
    }
   ],
   "source": [
    "cols = list(merge.columns.values)"
   ]
  },
  {
   "cell_type": "code",
   "execution_count": 36,
   "id": "8866dae0",
   "metadata": {},
   "outputs": [
    {
     "data": {
      "text/plain": [
       "['reviewid',\n",
       " 'url',\n",
       " 'score',\n",
       " 'best_new_music',\n",
       " 'author',\n",
       " 'pub_date',\n",
       " 'pub_weekday',\n",
       " 'pub_day',\n",
       " 'pub_month',\n",
       " 'pub_year',\n",
       " 'date',\n",
       " 'rank',\n",
       " 'song',\n",
       " 'last-week',\n",
       " 'peak-rank',\n",
       " 'weeks-on-board',\n",
       " 'artist']"
      ]
     },
     "execution_count": 36,
     "metadata": {},
     "output_type": "execute_result"
    },
    {
     "name": "stdout",
     "output_type": "stream",
     "text": [
      "time: 3.57 ms (started: 2021-12-08 22:24:11 -05:00)\n"
     ]
    }
   ],
   "source": [
    "cols"
   ]
  },
  {
   "cell_type": "code",
   "execution_count": 37,
   "id": "28e21ca7",
   "metadata": {},
   "outputs": [
    {
     "name": "stdout",
     "output_type": "stream",
     "text": [
      "time: 608 µs (started: 2021-12-08 22:24:11 -05:00)\n"
     ]
    }
   ],
   "source": [
    "cols =  ['date',\n",
    " 'rank',\n",
    " 'song','artist',\n",
    " 'last-week',\n",
    " 'peak-rank',\n",
    " 'weeks-on-board',\n",
    " 'reviewid',\n",
    " 'url',\n",
    " 'score',\n",
    " 'best_new_music',\n",
    " 'author',\n",
    " 'pub_date',\n",
    " 'pub_weekday',\n",
    " 'pub_day',\n",
    " 'pub_month',\n",
    " 'pub_year']"
   ]
  },
  {
   "cell_type": "code",
   "execution_count": 38,
   "id": "9d0f96c3",
   "metadata": {},
   "outputs": [
    {
     "name": "stdout",
     "output_type": "stream",
     "text": [
      "time: 5.01 ms (started: 2021-12-08 22:24:12 -05:00)\n"
     ]
    }
   ],
   "source": [
    "merge = merge[cols]"
   ]
  },
  {
   "cell_type": "markdown",
   "id": "8db9b94e",
   "metadata": {},
   "source": [
    "### <font color=\"magenta\"> Drop duplicate reviews (if they have same url)"
   ]
  },
  {
   "cell_type": "code",
   "execution_count": 39,
   "id": "bb889e26",
   "metadata": {},
   "outputs": [
    {
     "data": {
      "text/html": [
       "<div>\n",
       "<style scoped>\n",
       "    .dataframe tbody tr th:only-of-type {\n",
       "        vertical-align: middle;\n",
       "    }\n",
       "\n",
       "    .dataframe tbody tr th {\n",
       "        vertical-align: top;\n",
       "    }\n",
       "\n",
       "    .dataframe thead th {\n",
       "        text-align: right;\n",
       "    }\n",
       "</style>\n",
       "<table border=\"1\" class=\"dataframe\">\n",
       "  <thead>\n",
       "    <tr style=\"text-align: right;\">\n",
       "      <th></th>\n",
       "      <th>date</th>\n",
       "      <th>rank</th>\n",
       "      <th>song</th>\n",
       "      <th>artist</th>\n",
       "      <th>last-week</th>\n",
       "      <th>peak-rank</th>\n",
       "      <th>weeks-on-board</th>\n",
       "      <th>reviewid</th>\n",
       "      <th>url</th>\n",
       "      <th>score</th>\n",
       "      <th>best_new_music</th>\n",
       "      <th>author</th>\n",
       "      <th>pub_date</th>\n",
       "      <th>pub_weekday</th>\n",
       "      <th>pub_day</th>\n",
       "      <th>pub_month</th>\n",
       "      <th>pub_year</th>\n",
       "    </tr>\n",
       "  </thead>\n",
       "  <tbody>\n",
       "    <tr>\n",
       "      <th>7433</th>\n",
       "      <td>2013-12-28</td>\n",
       "      <td>87</td>\n",
       "      <td>angel</td>\n",
       "      <td>jacquie lee</td>\n",
       "      <td>NaN</td>\n",
       "      <td>87</td>\n",
       "      <td>1</td>\n",
       "      <td>19174</td>\n",
       "      <td>http://pitchfork.com/reviews/albums/19174-pure...</td>\n",
       "      <td>7.4</td>\n",
       "      <td>0</td>\n",
       "      <td>miles raymer</td>\n",
       "      <td>2014-04-01</td>\n",
       "      <td>1</td>\n",
       "      <td>1</td>\n",
       "      <td>4</td>\n",
       "      <td>2014</td>\n",
       "    </tr>\n",
       "    <tr>\n",
       "      <th>7434</th>\n",
       "      <td>2011-07-02</td>\n",
       "      <td>64</td>\n",
       "      <td>angel</td>\n",
       "      <td>javier colon</td>\n",
       "      <td>NaN</td>\n",
       "      <td>64</td>\n",
       "      <td>1</td>\n",
       "      <td>19174</td>\n",
       "      <td>http://pitchfork.com/reviews/albums/19174-pure...</td>\n",
       "      <td>7.4</td>\n",
       "      <td>0</td>\n",
       "      <td>miles raymer</td>\n",
       "      <td>2014-04-01</td>\n",
       "      <td>1</td>\n",
       "      <td>1</td>\n",
       "      <td>4</td>\n",
       "      <td>2014</td>\n",
       "    </tr>\n",
       "    <tr>\n",
       "      <th>7435</th>\n",
       "      <td>2011-05-14</td>\n",
       "      <td>83</td>\n",
       "      <td>angel</td>\n",
       "      <td>akon</td>\n",
       "      <td>96.0</td>\n",
       "      <td>56</td>\n",
       "      <td>10</td>\n",
       "      <td>19174</td>\n",
       "      <td>http://pitchfork.com/reviews/albums/19174-pure...</td>\n",
       "      <td>7.4</td>\n",
       "      <td>0</td>\n",
       "      <td>miles raymer</td>\n",
       "      <td>2014-04-01</td>\n",
       "      <td>1</td>\n",
       "      <td>1</td>\n",
       "      <td>4</td>\n",
       "      <td>2014</td>\n",
       "    </tr>\n",
       "    <tr>\n",
       "      <th>7436</th>\n",
       "      <td>2011-05-07</td>\n",
       "      <td>96</td>\n",
       "      <td>angel</td>\n",
       "      <td>akon</td>\n",
       "      <td>NaN</td>\n",
       "      <td>56</td>\n",
       "      <td>9</td>\n",
       "      <td>19174</td>\n",
       "      <td>http://pitchfork.com/reviews/albums/19174-pure...</td>\n",
       "      <td>7.4</td>\n",
       "      <td>0</td>\n",
       "      <td>miles raymer</td>\n",
       "      <td>2014-04-01</td>\n",
       "      <td>1</td>\n",
       "      <td>1</td>\n",
       "      <td>4</td>\n",
       "      <td>2014</td>\n",
       "    </tr>\n",
       "    <tr>\n",
       "      <th>7437</th>\n",
       "      <td>2010-12-25</td>\n",
       "      <td>83</td>\n",
       "      <td>angel</td>\n",
       "      <td>akon</td>\n",
       "      <td>56.0</td>\n",
       "      <td>56</td>\n",
       "      <td>8</td>\n",
       "      <td>19174</td>\n",
       "      <td>http://pitchfork.com/reviews/albums/19174-pure...</td>\n",
       "      <td>7.4</td>\n",
       "      <td>0</td>\n",
       "      <td>miles raymer</td>\n",
       "      <td>2014-04-01</td>\n",
       "      <td>1</td>\n",
       "      <td>1</td>\n",
       "      <td>4</td>\n",
       "      <td>2014</td>\n",
       "    </tr>\n",
       "    <tr>\n",
       "      <th>...</th>\n",
       "      <td>...</td>\n",
       "      <td>...</td>\n",
       "      <td>...</td>\n",
       "      <td>...</td>\n",
       "      <td>...</td>\n",
       "      <td>...</td>\n",
       "      <td>...</td>\n",
       "      <td>...</td>\n",
       "      <td>...</td>\n",
       "      <td>...</td>\n",
       "      <td>...</td>\n",
       "      <td>...</td>\n",
       "      <td>...</td>\n",
       "      <td>...</td>\n",
       "      <td>...</td>\n",
       "      <td>...</td>\n",
       "      <td>...</td>\n",
       "    </tr>\n",
       "    <tr>\n",
       "      <th>7633</th>\n",
       "      <td>1965-03-13</td>\n",
       "      <td>53</td>\n",
       "      <td>angel</td>\n",
       "      <td>johnny tillotson</td>\n",
       "      <td>60.0</td>\n",
       "      <td>53</td>\n",
       "      <td>5</td>\n",
       "      <td>19174</td>\n",
       "      <td>http://pitchfork.com/reviews/albums/19174-pure...</td>\n",
       "      <td>7.4</td>\n",
       "      <td>0</td>\n",
       "      <td>miles raymer</td>\n",
       "      <td>2014-04-01</td>\n",
       "      <td>1</td>\n",
       "      <td>1</td>\n",
       "      <td>4</td>\n",
       "      <td>2014</td>\n",
       "    </tr>\n",
       "    <tr>\n",
       "      <th>7634</th>\n",
       "      <td>1965-03-06</td>\n",
       "      <td>60</td>\n",
       "      <td>angel</td>\n",
       "      <td>johnny tillotson</td>\n",
       "      <td>66.0</td>\n",
       "      <td>60</td>\n",
       "      <td>4</td>\n",
       "      <td>19174</td>\n",
       "      <td>http://pitchfork.com/reviews/albums/19174-pure...</td>\n",
       "      <td>7.4</td>\n",
       "      <td>0</td>\n",
       "      <td>miles raymer</td>\n",
       "      <td>2014-04-01</td>\n",
       "      <td>1</td>\n",
       "      <td>1</td>\n",
       "      <td>4</td>\n",
       "      <td>2014</td>\n",
       "    </tr>\n",
       "    <tr>\n",
       "      <th>7635</th>\n",
       "      <td>1965-02-27</td>\n",
       "      <td>66</td>\n",
       "      <td>angel</td>\n",
       "      <td>johnny tillotson</td>\n",
       "      <td>82.0</td>\n",
       "      <td>66</td>\n",
       "      <td>3</td>\n",
       "      <td>19174</td>\n",
       "      <td>http://pitchfork.com/reviews/albums/19174-pure...</td>\n",
       "      <td>7.4</td>\n",
       "      <td>0</td>\n",
       "      <td>miles raymer</td>\n",
       "      <td>2014-04-01</td>\n",
       "      <td>1</td>\n",
       "      <td>1</td>\n",
       "      <td>4</td>\n",
       "      <td>2014</td>\n",
       "    </tr>\n",
       "    <tr>\n",
       "      <th>7636</th>\n",
       "      <td>1965-02-20</td>\n",
       "      <td>82</td>\n",
       "      <td>angel</td>\n",
       "      <td>johnny tillotson</td>\n",
       "      <td>94.0</td>\n",
       "      <td>82</td>\n",
       "      <td>2</td>\n",
       "      <td>19174</td>\n",
       "      <td>http://pitchfork.com/reviews/albums/19174-pure...</td>\n",
       "      <td>7.4</td>\n",
       "      <td>0</td>\n",
       "      <td>miles raymer</td>\n",
       "      <td>2014-04-01</td>\n",
       "      <td>1</td>\n",
       "      <td>1</td>\n",
       "      <td>4</td>\n",
       "      <td>2014</td>\n",
       "    </tr>\n",
       "    <tr>\n",
       "      <th>7637</th>\n",
       "      <td>1965-02-13</td>\n",
       "      <td>94</td>\n",
       "      <td>angel</td>\n",
       "      <td>johnny tillotson</td>\n",
       "      <td>NaN</td>\n",
       "      <td>94</td>\n",
       "      <td>1</td>\n",
       "      <td>19174</td>\n",
       "      <td>http://pitchfork.com/reviews/albums/19174-pure...</td>\n",
       "      <td>7.4</td>\n",
       "      <td>0</td>\n",
       "      <td>miles raymer</td>\n",
       "      <td>2014-04-01</td>\n",
       "      <td>1</td>\n",
       "      <td>1</td>\n",
       "      <td>4</td>\n",
       "      <td>2014</td>\n",
       "    </tr>\n",
       "  </tbody>\n",
       "</table>\n",
       "<p>205 rows × 17 columns</p>\n",
       "</div>"
      ],
      "text/plain": [
       "            date  rank   song            artist  last-week  peak-rank  \\\n",
       "7433  2013-12-28    87  angel       jacquie lee        NaN         87   \n",
       "7434  2011-07-02    64  angel      javier colon        NaN         64   \n",
       "7435  2011-05-14    83  angel              akon       96.0         56   \n",
       "7436  2011-05-07    96  angel              akon        NaN         56   \n",
       "7437  2010-12-25    83  angel              akon       56.0         56   \n",
       "...          ...   ...    ...               ...        ...        ...   \n",
       "7633  1965-03-13    53  angel  johnny tillotson       60.0         53   \n",
       "7634  1965-03-06    60  angel  johnny tillotson       66.0         60   \n",
       "7635  1965-02-27    66  angel  johnny tillotson       82.0         66   \n",
       "7636  1965-02-20    82  angel  johnny tillotson       94.0         82   \n",
       "7637  1965-02-13    94  angel  johnny tillotson        NaN         94   \n",
       "\n",
       "      weeks-on-board  reviewid  \\\n",
       "7433               1     19174   \n",
       "7434               1     19174   \n",
       "7435              10     19174   \n",
       "7436               9     19174   \n",
       "7437               8     19174   \n",
       "...              ...       ...   \n",
       "7633               5     19174   \n",
       "7634               4     19174   \n",
       "7635               3     19174   \n",
       "7636               2     19174   \n",
       "7637               1     19174   \n",
       "\n",
       "                                                    url  score  \\\n",
       "7433  http://pitchfork.com/reviews/albums/19174-pure...    7.4   \n",
       "7434  http://pitchfork.com/reviews/albums/19174-pure...    7.4   \n",
       "7435  http://pitchfork.com/reviews/albums/19174-pure...    7.4   \n",
       "7436  http://pitchfork.com/reviews/albums/19174-pure...    7.4   \n",
       "7437  http://pitchfork.com/reviews/albums/19174-pure...    7.4   \n",
       "...                                                 ...    ...   \n",
       "7633  http://pitchfork.com/reviews/albums/19174-pure...    7.4   \n",
       "7634  http://pitchfork.com/reviews/albums/19174-pure...    7.4   \n",
       "7635  http://pitchfork.com/reviews/albums/19174-pure...    7.4   \n",
       "7636  http://pitchfork.com/reviews/albums/19174-pure...    7.4   \n",
       "7637  http://pitchfork.com/reviews/albums/19174-pure...    7.4   \n",
       "\n",
       "      best_new_music        author    pub_date  pub_weekday  pub_day  \\\n",
       "7433               0  miles raymer  2014-04-01            1        1   \n",
       "7434               0  miles raymer  2014-04-01            1        1   \n",
       "7435               0  miles raymer  2014-04-01            1        1   \n",
       "7436               0  miles raymer  2014-04-01            1        1   \n",
       "7437               0  miles raymer  2014-04-01            1        1   \n",
       "...              ...           ...         ...          ...      ...   \n",
       "7633               0  miles raymer  2014-04-01            1        1   \n",
       "7634               0  miles raymer  2014-04-01            1        1   \n",
       "7635               0  miles raymer  2014-04-01            1        1   \n",
       "7636               0  miles raymer  2014-04-01            1        1   \n",
       "7637               0  miles raymer  2014-04-01            1        1   \n",
       "\n",
       "      pub_month  pub_year  \n",
       "7433          4      2014  \n",
       "7434          4      2014  \n",
       "7435          4      2014  \n",
       "7436          4      2014  \n",
       "7437          4      2014  \n",
       "...         ...       ...  \n",
       "7633          4      2014  \n",
       "7634          4      2014  \n",
       "7635          4      2014  \n",
       "7636          4      2014  \n",
       "7637          4      2014  \n",
       "\n",
       "[205 rows x 17 columns]"
      ]
     },
     "execution_count": 39,
     "metadata": {},
     "output_type": "execute_result"
    },
    {
     "name": "stdout",
     "output_type": "stream",
     "text": [
      "time: 29.8 ms (started: 2021-12-08 22:24:13 -05:00)\n"
     ]
    }
   ],
   "source": [
    "#merge['url'].value_counts()\n",
    "\n",
    "#The line below shows why the same url shows up 205 times. The review is for an album called angel and the song titles are called angel\n",
    "merge[merge['url']=='http://pitchfork.com/reviews/albums/19174-pure-x-angel/']"
   ]
  },
  {
   "cell_type": "code",
   "execution_count": 40,
   "id": "0d4a22ac",
   "metadata": {},
   "outputs": [
    {
     "data": {
      "text/html": [
       "<div>\n",
       "<style scoped>\n",
       "    .dataframe tbody tr th:only-of-type {\n",
       "        vertical-align: middle;\n",
       "    }\n",
       "\n",
       "    .dataframe tbody tr th {\n",
       "        vertical-align: top;\n",
       "    }\n",
       "\n",
       "    .dataframe thead th {\n",
       "        text-align: right;\n",
       "    }\n",
       "</style>\n",
       "<table border=\"1\" class=\"dataframe\">\n",
       "  <thead>\n",
       "    <tr style=\"text-align: right;\">\n",
       "      <th></th>\n",
       "      <th>date</th>\n",
       "      <th>rank</th>\n",
       "      <th>song</th>\n",
       "      <th>artist</th>\n",
       "      <th>last-week</th>\n",
       "      <th>peak-rank</th>\n",
       "      <th>weeks-on-board</th>\n",
       "      <th>reviewid</th>\n",
       "      <th>url</th>\n",
       "      <th>score</th>\n",
       "      <th>best_new_music</th>\n",
       "      <th>author</th>\n",
       "      <th>pub_date</th>\n",
       "      <th>pub_weekday</th>\n",
       "      <th>pub_day</th>\n",
       "      <th>pub_month</th>\n",
       "      <th>pub_year</th>\n",
       "    </tr>\n",
       "  </thead>\n",
       "  <tbody>\n",
       "    <tr>\n",
       "      <th>0</th>\n",
       "      <td>2016-12-31</td>\n",
       "      <td>29</td>\n",
       "      <td>4 your eyez only</td>\n",
       "      <td>j. cole</td>\n",
       "      <td>NaN</td>\n",
       "      <td>29</td>\n",
       "      <td>1</td>\n",
       "      <td>22696</td>\n",
       "      <td>http://pitchfork.com/reviews/albums/22696-4-yo...</td>\n",
       "      <td>6.7</td>\n",
       "      <td>0</td>\n",
       "      <td>paul a. thompson</td>\n",
       "      <td>2016-12-14</td>\n",
       "      <td>2</td>\n",
       "      <td>14</td>\n",
       "      <td>12</td>\n",
       "      <td>2016</td>\n",
       "    </tr>\n",
       "    <tr>\n",
       "      <th>3</th>\n",
       "      <td>1975-08-23</td>\n",
       "      <td>90</td>\n",
       "      <td>out of time</td>\n",
       "      <td>the rolling stones</td>\n",
       "      <td>NaN</td>\n",
       "      <td>90</td>\n",
       "      <td>1</td>\n",
       "      <td>22669</td>\n",
       "      <td>http://pitchfork.com/reviews/albums/22669-out-...</td>\n",
       "      <td>8.4</td>\n",
       "      <td>0</td>\n",
       "      <td>evan rytlewski</td>\n",
       "      <td>2016-12-02</td>\n",
       "      <td>4</td>\n",
       "      <td>2</td>\n",
       "      <td>12</td>\n",
       "      <td>2016</td>\n",
       "    </tr>\n",
       "    <tr>\n",
       "      <th>6</th>\n",
       "      <td>1975-08-23</td>\n",
       "      <td>90</td>\n",
       "      <td>out of time</td>\n",
       "      <td>the rolling stones</td>\n",
       "      <td>NaN</td>\n",
       "      <td>90</td>\n",
       "      <td>1</td>\n",
       "      <td>19985</td>\n",
       "      <td>http://pitchfork.com/reviews/albums/19985-houn...</td>\n",
       "      <td>6.8</td>\n",
       "      <td>0</td>\n",
       "      <td>paul thompson</td>\n",
       "      <td>2014-11-26</td>\n",
       "      <td>2</td>\n",
       "      <td>26</td>\n",
       "      <td>11</td>\n",
       "      <td>2014</td>\n",
       "    </tr>\n",
       "    <tr>\n",
       "      <th>47</th>\n",
       "      <td>2016-10-29</td>\n",
       "      <td>5</td>\n",
       "      <td>24k magic</td>\n",
       "      <td>bruno mars</td>\n",
       "      <td>NaN</td>\n",
       "      <td>5</td>\n",
       "      <td>1</td>\n",
       "      <td>22634</td>\n",
       "      <td>http://pitchfork.com/reviews/albums/22634-24k-...</td>\n",
       "      <td>6.2</td>\n",
       "      <td>0</td>\n",
       "      <td>katherine st. asaph</td>\n",
       "      <td>2016-12-02</td>\n",
       "      <td>4</td>\n",
       "      <td>2</td>\n",
       "      <td>12</td>\n",
       "      <td>2016</td>\n",
       "    </tr>\n",
       "    <tr>\n",
       "      <th>77</th>\n",
       "      <td>2016-10-08</td>\n",
       "      <td>40</td>\n",
       "      <td>starboy</td>\n",
       "      <td>the weeknd featuring daft punk</td>\n",
       "      <td>NaN</td>\n",
       "      <td>40</td>\n",
       "      <td>1</td>\n",
       "      <td>22668</td>\n",
       "      <td>http://pitchfork.com/reviews/albums/22668-star...</td>\n",
       "      <td>6.7</td>\n",
       "      <td>0</td>\n",
       "      <td>mehan jayasuriya</td>\n",
       "      <td>2016-11-30</td>\n",
       "      <td>2</td>\n",
       "      <td>30</td>\n",
       "      <td>11</td>\n",
       "      <td>2016</td>\n",
       "    </tr>\n",
       "    <tr>\n",
       "      <th>...</th>\n",
       "      <td>...</td>\n",
       "      <td>...</td>\n",
       "      <td>...</td>\n",
       "      <td>...</td>\n",
       "      <td>...</td>\n",
       "      <td>...</td>\n",
       "      <td>...</td>\n",
       "      <td>...</td>\n",
       "      <td>...</td>\n",
       "      <td>...</td>\n",
       "      <td>...</td>\n",
       "      <td>...</td>\n",
       "      <td>...</td>\n",
       "      <td>...</td>\n",
       "      <td>...</td>\n",
       "      <td>...</td>\n",
       "      <td>...</td>\n",
       "    </tr>\n",
       "    <tr>\n",
       "      <th>22913</th>\n",
       "      <td>2020-05-02</td>\n",
       "      <td>44</td>\n",
       "      <td>pick up</td>\n",
       "      <td>dababy featuring quavo</td>\n",
       "      <td>NaN</td>\n",
       "      <td>44</td>\n",
       "      <td>1</td>\n",
       "      <td>7323</td>\n",
       "      <td>http://pitchfork.com/reviews/albums/7323-pick-up/</td>\n",
       "      <td>7.6</td>\n",
       "      <td>0</td>\n",
       "      <td>s. murray</td>\n",
       "      <td>1999-09-14</td>\n",
       "      <td>1</td>\n",
       "      <td>14</td>\n",
       "      <td>9</td>\n",
       "      <td>1999</td>\n",
       "    </tr>\n",
       "    <tr>\n",
       "      <th>22951</th>\n",
       "      <td>1961-02-20</td>\n",
       "      <td>24</td>\n",
       "      <td>surrender</td>\n",
       "      <td>elvis presley with the jordanaires</td>\n",
       "      <td>NaN</td>\n",
       "      <td>24</td>\n",
       "      <td>1</td>\n",
       "      <td>1412</td>\n",
       "      <td>http://pitchfork.com/reviews/albums/1412-surre...</td>\n",
       "      <td>9.0</td>\n",
       "      <td>0</td>\n",
       "      <td>sarah zupko</td>\n",
       "      <td>1999-06-29</td>\n",
       "      <td>1</td>\n",
       "      <td>29</td>\n",
       "      <td>6</td>\n",
       "      <td>1999</td>\n",
       "    </tr>\n",
       "    <tr>\n",
       "      <th>22955</th>\n",
       "      <td>2020-11-14</td>\n",
       "      <td>92</td>\n",
       "      <td>stay down</td>\n",
       "      <td>lil durk, 6lack &amp; young thug</td>\n",
       "      <td>NaN</td>\n",
       "      <td>92</td>\n",
       "      <td>1</td>\n",
       "      <td>8224</td>\n",
       "      <td>http://pitchfork.com/reviews/albums/8224-stay-...</td>\n",
       "      <td>9.3</td>\n",
       "      <td>0</td>\n",
       "      <td>paul cooper</td>\n",
       "      <td>1999-06-22</td>\n",
       "      <td>1</td>\n",
       "      <td>22</td>\n",
       "      <td>6</td>\n",
       "      <td>1999</td>\n",
       "    </tr>\n",
       "    <tr>\n",
       "      <th>22974</th>\n",
       "      <td>2000-07-29</td>\n",
       "      <td>72</td>\n",
       "      <td>californication</td>\n",
       "      <td>red hot chili peppers</td>\n",
       "      <td>NaN</td>\n",
       "      <td>72</td>\n",
       "      <td>1</td>\n",
       "      <td>6709</td>\n",
       "      <td>http://pitchfork.com/reviews/albums/6709-calif...</td>\n",
       "      <td>6.8</td>\n",
       "      <td>0</td>\n",
       "      <td>brent dicrescenzo</td>\n",
       "      <td>1999-06-08</td>\n",
       "      <td>1</td>\n",
       "      <td>8</td>\n",
       "      <td>6</td>\n",
       "      <td>1999</td>\n",
       "    </tr>\n",
       "    <tr>\n",
       "      <th>22978</th>\n",
       "      <td>2017-10-07</td>\n",
       "      <td>85</td>\n",
       "      <td>dna</td>\n",
       "      <td>bts</td>\n",
       "      <td>NaN</td>\n",
       "      <td>85</td>\n",
       "      <td>1</td>\n",
       "      <td>7119</td>\n",
       "      <td>http://pitchfork.com/reviews/albums/7119-dna/</td>\n",
       "      <td>8.0</td>\n",
       "      <td>0</td>\n",
       "      <td>samir khan</td>\n",
       "      <td>1999-05-04</td>\n",
       "      <td>1</td>\n",
       "      <td>4</td>\n",
       "      <td>5</td>\n",
       "      <td>1999</td>\n",
       "    </tr>\n",
       "  </tbody>\n",
       "</table>\n",
       "<p>861 rows × 17 columns</p>\n",
       "</div>"
      ],
      "text/plain": [
       "             date  rank              song                              artist  \\\n",
       "0      2016-12-31    29  4 your eyez only                             j. cole   \n",
       "3      1975-08-23    90       out of time                  the rolling stones   \n",
       "6      1975-08-23    90       out of time                  the rolling stones   \n",
       "47     2016-10-29     5         24k magic                          bruno mars   \n",
       "77     2016-10-08    40           starboy      the weeknd featuring daft punk   \n",
       "...           ...   ...               ...                                 ...   \n",
       "22913  2020-05-02    44           pick up              dababy featuring quavo   \n",
       "22951  1961-02-20    24         surrender  elvis presley with the jordanaires   \n",
       "22955  2020-11-14    92         stay down        lil durk, 6lack & young thug   \n",
       "22974  2000-07-29    72   californication               red hot chili peppers   \n",
       "22978  2017-10-07    85               dna                                 bts   \n",
       "\n",
       "       last-week  peak-rank  weeks-on-board  reviewid  \\\n",
       "0            NaN         29               1     22696   \n",
       "3            NaN         90               1     22669   \n",
       "6            NaN         90               1     19985   \n",
       "47           NaN          5               1     22634   \n",
       "77           NaN         40               1     22668   \n",
       "...          ...        ...             ...       ...   \n",
       "22913        NaN         44               1      7323   \n",
       "22951        NaN         24               1      1412   \n",
       "22955        NaN         92               1      8224   \n",
       "22974        NaN         72               1      6709   \n",
       "22978        NaN         85               1      7119   \n",
       "\n",
       "                                                     url  score  \\\n",
       "0      http://pitchfork.com/reviews/albums/22696-4-yo...    6.7   \n",
       "3      http://pitchfork.com/reviews/albums/22669-out-...    8.4   \n",
       "6      http://pitchfork.com/reviews/albums/19985-houn...    6.8   \n",
       "47     http://pitchfork.com/reviews/albums/22634-24k-...    6.2   \n",
       "77     http://pitchfork.com/reviews/albums/22668-star...    6.7   \n",
       "...                                                  ...    ...   \n",
       "22913  http://pitchfork.com/reviews/albums/7323-pick-up/    7.6   \n",
       "22951  http://pitchfork.com/reviews/albums/1412-surre...    9.0   \n",
       "22955  http://pitchfork.com/reviews/albums/8224-stay-...    9.3   \n",
       "22974  http://pitchfork.com/reviews/albums/6709-calif...    6.8   \n",
       "22978      http://pitchfork.com/reviews/albums/7119-dna/    8.0   \n",
       "\n",
       "       best_new_music               author    pub_date  pub_weekday  pub_day  \\\n",
       "0                   0     paul a. thompson  2016-12-14            2       14   \n",
       "3                   0       evan rytlewski  2016-12-02            4        2   \n",
       "6                   0        paul thompson  2014-11-26            2       26   \n",
       "47                  0  katherine st. asaph  2016-12-02            4        2   \n",
       "77                  0     mehan jayasuriya  2016-11-30            2       30   \n",
       "...               ...                  ...         ...          ...      ...   \n",
       "22913               0            s. murray  1999-09-14            1       14   \n",
       "22951               0          sarah zupko  1999-06-29            1       29   \n",
       "22955               0          paul cooper  1999-06-22            1       22   \n",
       "22974               0    brent dicrescenzo  1999-06-08            1        8   \n",
       "22978               0           samir khan  1999-05-04            1        4   \n",
       "\n",
       "       pub_month  pub_year  \n",
       "0             12      2016  \n",
       "3             12      2016  \n",
       "6             11      2014  \n",
       "47            12      2016  \n",
       "77            11      2016  \n",
       "...          ...       ...  \n",
       "22913          9      1999  \n",
       "22951          6      1999  \n",
       "22955          6      1999  \n",
       "22974          6      1999  \n",
       "22978          5      1999  \n",
       "\n",
       "[861 rows x 17 columns]"
      ]
     },
     "execution_count": 40,
     "metadata": {},
     "output_type": "execute_result"
    },
    {
     "name": "stdout",
     "output_type": "stream",
     "text": [
      "time: 31.5 ms (started: 2021-12-08 22:24:20 -05:00)\n"
     ]
    }
   ],
   "source": [
    "merge.drop_duplicates(subset=['url'],keep='last')"
   ]
  },
  {
   "cell_type": "markdown",
   "id": "84b32b9c",
   "metadata": {},
   "source": [
    "### <font color=\"magenta\"> Checking number of unique songs in merge"
   ]
  },
  {
   "cell_type": "markdown",
   "id": "ff4c56ca",
   "metadata": {},
   "source": [
    "**The new dataframe unique has 693 rows of completely different songs (previously, a song may have appeared in multiple rows if it lived on the Billboard charts for multiple weeks or if it had multiple reviews**"
   ]
  },
  {
   "cell_type": "code",
   "execution_count": 41,
   "id": "079d3c73",
   "metadata": {},
   "outputs": [
    {
     "name": "stdout",
     "output_type": "stream",
     "text": [
      "time: 9.33 ms (started: 2021-12-08 22:24:30 -05:00)\n"
     ]
    }
   ],
   "source": [
    "unique = merge.drop_duplicates(subset =\"song\")"
   ]
  },
  {
   "cell_type": "code",
   "execution_count": 42,
   "id": "50ac6ba9",
   "metadata": {},
   "outputs": [
    {
     "data": {
      "text/html": [
       "<div>\n",
       "<style scoped>\n",
       "    .dataframe tbody tr th:only-of-type {\n",
       "        vertical-align: middle;\n",
       "    }\n",
       "\n",
       "    .dataframe tbody tr th {\n",
       "        vertical-align: top;\n",
       "    }\n",
       "\n",
       "    .dataframe thead th {\n",
       "        text-align: right;\n",
       "    }\n",
       "</style>\n",
       "<table border=\"1\" class=\"dataframe\">\n",
       "  <thead>\n",
       "    <tr style=\"text-align: right;\">\n",
       "      <th></th>\n",
       "      <th>date</th>\n",
       "      <th>rank</th>\n",
       "      <th>song</th>\n",
       "      <th>artist</th>\n",
       "      <th>last-week</th>\n",
       "      <th>peak-rank</th>\n",
       "      <th>weeks-on-board</th>\n",
       "      <th>reviewid</th>\n",
       "      <th>url</th>\n",
       "      <th>score</th>\n",
       "      <th>best_new_music</th>\n",
       "      <th>author</th>\n",
       "      <th>pub_date</th>\n",
       "      <th>pub_weekday</th>\n",
       "      <th>pub_day</th>\n",
       "      <th>pub_month</th>\n",
       "      <th>pub_year</th>\n",
       "    </tr>\n",
       "  </thead>\n",
       "  <tbody>\n",
       "    <tr>\n",
       "      <th>0</th>\n",
       "      <td>2016-12-31</td>\n",
       "      <td>29</td>\n",
       "      <td>4 your eyez only</td>\n",
       "      <td>j. cole</td>\n",
       "      <td>NaN</td>\n",
       "      <td>29</td>\n",
       "      <td>1</td>\n",
       "      <td>22696</td>\n",
       "      <td>http://pitchfork.com/reviews/albums/22696-4-yo...</td>\n",
       "      <td>6.7</td>\n",
       "      <td>0</td>\n",
       "      <td>paul a. thompson</td>\n",
       "      <td>2016-12-14</td>\n",
       "      <td>2</td>\n",
       "      <td>14</td>\n",
       "      <td>12</td>\n",
       "      <td>2016</td>\n",
       "    </tr>\n",
       "    <tr>\n",
       "      <th>1</th>\n",
       "      <td>1975-09-06</td>\n",
       "      <td>81</td>\n",
       "      <td>out of time</td>\n",
       "      <td>the rolling stones</td>\n",
       "      <td>85.0</td>\n",
       "      <td>81</td>\n",
       "      <td>3</td>\n",
       "      <td>22669</td>\n",
       "      <td>http://pitchfork.com/reviews/albums/22669-out-...</td>\n",
       "      <td>8.4</td>\n",
       "      <td>0</td>\n",
       "      <td>evan rytlewski</td>\n",
       "      <td>2016-12-02</td>\n",
       "      <td>4</td>\n",
       "      <td>2</td>\n",
       "      <td>12</td>\n",
       "      <td>2016</td>\n",
       "    </tr>\n",
       "    <tr>\n",
       "      <th>7</th>\n",
       "      <td>2017-08-05</td>\n",
       "      <td>50</td>\n",
       "      <td>24k magic</td>\n",
       "      <td>bruno mars</td>\n",
       "      <td>48.0</td>\n",
       "      <td>4</td>\n",
       "      <td>41</td>\n",
       "      <td>22634</td>\n",
       "      <td>http://pitchfork.com/reviews/albums/22634-24k-...</td>\n",
       "      <td>6.2</td>\n",
       "      <td>0</td>\n",
       "      <td>katherine st. asaph</td>\n",
       "      <td>2016-12-02</td>\n",
       "      <td>4</td>\n",
       "      <td>2</td>\n",
       "      <td>12</td>\n",
       "      <td>2016</td>\n",
       "    </tr>\n",
       "    <tr>\n",
       "      <th>48</th>\n",
       "      <td>2017-04-29</td>\n",
       "      <td>39</td>\n",
       "      <td>starboy</td>\n",
       "      <td>the weeknd featuring daft punk</td>\n",
       "      <td>37.0</td>\n",
       "      <td>1</td>\n",
       "      <td>30</td>\n",
       "      <td>22668</td>\n",
       "      <td>http://pitchfork.com/reviews/albums/22668-star...</td>\n",
       "      <td>6.7</td>\n",
       "      <td>0</td>\n",
       "      <td>mehan jayasuriya</td>\n",
       "      <td>2016-11-30</td>\n",
       "      <td>2</td>\n",
       "      <td>30</td>\n",
       "      <td>11</td>\n",
       "      <td>2016</td>\n",
       "    </tr>\n",
       "    <tr>\n",
       "      <th>78</th>\n",
       "      <td>2021-11-06</td>\n",
       "      <td>63</td>\n",
       "      <td>woman</td>\n",
       "      <td>doja cat</td>\n",
       "      <td>65.0</td>\n",
       "      <td>62</td>\n",
       "      <td>13</td>\n",
       "      <td>22644</td>\n",
       "      <td>http://pitchfork.com/reviews/albums/22644-woman/</td>\n",
       "      <td>5.2</td>\n",
       "      <td>0</td>\n",
       "      <td>mehan jayasuriya</td>\n",
       "      <td>2016-11-29</td>\n",
       "      <td>1</td>\n",
       "      <td>29</td>\n",
       "      <td>11</td>\n",
       "      <td>2016</td>\n",
       "    </tr>\n",
       "    <tr>\n",
       "      <th>...</th>\n",
       "      <td>...</td>\n",
       "      <td>...</td>\n",
       "      <td>...</td>\n",
       "      <td>...</td>\n",
       "      <td>...</td>\n",
       "      <td>...</td>\n",
       "      <td>...</td>\n",
       "      <td>...</td>\n",
       "      <td>...</td>\n",
       "      <td>...</td>\n",
       "      <td>...</td>\n",
       "      <td>...</td>\n",
       "      <td>...</td>\n",
       "      <td>...</td>\n",
       "      <td>...</td>\n",
       "      <td>...</td>\n",
       "      <td>...</td>\n",
       "    </tr>\n",
       "    <tr>\n",
       "      <th>22913</th>\n",
       "      <td>2020-05-02</td>\n",
       "      <td>44</td>\n",
       "      <td>pick up</td>\n",
       "      <td>dababy featuring quavo</td>\n",
       "      <td>NaN</td>\n",
       "      <td>44</td>\n",
       "      <td>1</td>\n",
       "      <td>7323</td>\n",
       "      <td>http://pitchfork.com/reviews/albums/7323-pick-up/</td>\n",
       "      <td>7.6</td>\n",
       "      <td>0</td>\n",
       "      <td>s. murray</td>\n",
       "      <td>1999-09-14</td>\n",
       "      <td>1</td>\n",
       "      <td>14</td>\n",
       "      <td>9</td>\n",
       "      <td>1999</td>\n",
       "    </tr>\n",
       "    <tr>\n",
       "      <th>22914</th>\n",
       "      <td>1991-08-10</td>\n",
       "      <td>96</td>\n",
       "      <td>surrender</td>\n",
       "      <td>trixter</td>\n",
       "      <td>84.0</td>\n",
       "      <td>72</td>\n",
       "      <td>10</td>\n",
       "      <td>1412</td>\n",
       "      <td>http://pitchfork.com/reviews/albums/1412-surre...</td>\n",
       "      <td>9.0</td>\n",
       "      <td>0</td>\n",
       "      <td>sarah zupko</td>\n",
       "      <td>1999-06-29</td>\n",
       "      <td>1</td>\n",
       "      <td>29</td>\n",
       "      <td>6</td>\n",
       "      <td>1999</td>\n",
       "    </tr>\n",
       "    <tr>\n",
       "      <th>22952</th>\n",
       "      <td>2021-02-13</td>\n",
       "      <td>87</td>\n",
       "      <td>stay down</td>\n",
       "      <td>lil durk, 6lack &amp; young thug</td>\n",
       "      <td>NaN</td>\n",
       "      <td>73</td>\n",
       "      <td>4</td>\n",
       "      <td>8224</td>\n",
       "      <td>http://pitchfork.com/reviews/albums/8224-stay-...</td>\n",
       "      <td>9.3</td>\n",
       "      <td>0</td>\n",
       "      <td>paul cooper</td>\n",
       "      <td>1999-06-22</td>\n",
       "      <td>1</td>\n",
       "      <td>22</td>\n",
       "      <td>6</td>\n",
       "      <td>1999</td>\n",
       "    </tr>\n",
       "    <tr>\n",
       "      <th>22956</th>\n",
       "      <td>2000-12-02</td>\n",
       "      <td>97</td>\n",
       "      <td>californication</td>\n",
       "      <td>red hot chili peppers</td>\n",
       "      <td>89.0</td>\n",
       "      <td>69</td>\n",
       "      <td>19</td>\n",
       "      <td>6709</td>\n",
       "      <td>http://pitchfork.com/reviews/albums/6709-calif...</td>\n",
       "      <td>6.8</td>\n",
       "      <td>0</td>\n",
       "      <td>brent dicrescenzo</td>\n",
       "      <td>1999-06-08</td>\n",
       "      <td>1</td>\n",
       "      <td>8</td>\n",
       "      <td>6</td>\n",
       "      <td>1999</td>\n",
       "    </tr>\n",
       "    <tr>\n",
       "      <th>22975</th>\n",
       "      <td>2017-10-28</td>\n",
       "      <td>98</td>\n",
       "      <td>dna</td>\n",
       "      <td>bts</td>\n",
       "      <td>87.0</td>\n",
       "      <td>67</td>\n",
       "      <td>4</td>\n",
       "      <td>7119</td>\n",
       "      <td>http://pitchfork.com/reviews/albums/7119-dna/</td>\n",
       "      <td>8.0</td>\n",
       "      <td>0</td>\n",
       "      <td>samir khan</td>\n",
       "      <td>1999-05-04</td>\n",
       "      <td>1</td>\n",
       "      <td>4</td>\n",
       "      <td>5</td>\n",
       "      <td>1999</td>\n",
       "    </tr>\n",
       "  </tbody>\n",
       "</table>\n",
       "<p>701 rows × 17 columns</p>\n",
       "</div>"
      ],
      "text/plain": [
       "             date  rank              song                          artist  \\\n",
       "0      2016-12-31    29  4 your eyez only                         j. cole   \n",
       "1      1975-09-06    81       out of time              the rolling stones   \n",
       "7      2017-08-05    50         24k magic                      bruno mars   \n",
       "48     2017-04-29    39           starboy  the weeknd featuring daft punk   \n",
       "78     2021-11-06    63             woman                        doja cat   \n",
       "...           ...   ...               ...                             ...   \n",
       "22913  2020-05-02    44           pick up          dababy featuring quavo   \n",
       "22914  1991-08-10    96         surrender                         trixter   \n",
       "22952  2021-02-13    87         stay down    lil durk, 6lack & young thug   \n",
       "22956  2000-12-02    97   californication           red hot chili peppers   \n",
       "22975  2017-10-28    98               dna                             bts   \n",
       "\n",
       "       last-week  peak-rank  weeks-on-board  reviewid  \\\n",
       "0            NaN         29               1     22696   \n",
       "1           85.0         81               3     22669   \n",
       "7           48.0          4              41     22634   \n",
       "48          37.0          1              30     22668   \n",
       "78          65.0         62              13     22644   \n",
       "...          ...        ...             ...       ...   \n",
       "22913        NaN         44               1      7323   \n",
       "22914       84.0         72              10      1412   \n",
       "22952        NaN         73               4      8224   \n",
       "22956       89.0         69              19      6709   \n",
       "22975       87.0         67               4      7119   \n",
       "\n",
       "                                                     url  score  \\\n",
       "0      http://pitchfork.com/reviews/albums/22696-4-yo...    6.7   \n",
       "1      http://pitchfork.com/reviews/albums/22669-out-...    8.4   \n",
       "7      http://pitchfork.com/reviews/albums/22634-24k-...    6.2   \n",
       "48     http://pitchfork.com/reviews/albums/22668-star...    6.7   \n",
       "78      http://pitchfork.com/reviews/albums/22644-woman/    5.2   \n",
       "...                                                  ...    ...   \n",
       "22913  http://pitchfork.com/reviews/albums/7323-pick-up/    7.6   \n",
       "22914  http://pitchfork.com/reviews/albums/1412-surre...    9.0   \n",
       "22952  http://pitchfork.com/reviews/albums/8224-stay-...    9.3   \n",
       "22956  http://pitchfork.com/reviews/albums/6709-calif...    6.8   \n",
       "22975      http://pitchfork.com/reviews/albums/7119-dna/    8.0   \n",
       "\n",
       "       best_new_music               author    pub_date  pub_weekday  pub_day  \\\n",
       "0                   0     paul a. thompson  2016-12-14            2       14   \n",
       "1                   0       evan rytlewski  2016-12-02            4        2   \n",
       "7                   0  katherine st. asaph  2016-12-02            4        2   \n",
       "48                  0     mehan jayasuriya  2016-11-30            2       30   \n",
       "78                  0     mehan jayasuriya  2016-11-29            1       29   \n",
       "...               ...                  ...         ...          ...      ...   \n",
       "22913               0            s. murray  1999-09-14            1       14   \n",
       "22914               0          sarah zupko  1999-06-29            1       29   \n",
       "22952               0          paul cooper  1999-06-22            1       22   \n",
       "22956               0    brent dicrescenzo  1999-06-08            1        8   \n",
       "22975               0           samir khan  1999-05-04            1        4   \n",
       "\n",
       "       pub_month  pub_year  \n",
       "0             12      2016  \n",
       "1             12      2016  \n",
       "7             12      2016  \n",
       "48            11      2016  \n",
       "78            11      2016  \n",
       "...          ...       ...  \n",
       "22913          9      1999  \n",
       "22914          6      1999  \n",
       "22952          6      1999  \n",
       "22956          6      1999  \n",
       "22975          5      1999  \n",
       "\n",
       "[701 rows x 17 columns]"
      ]
     },
     "execution_count": 42,
     "metadata": {},
     "output_type": "execute_result"
    },
    {
     "name": "stdout",
     "output_type": "stream",
     "text": [
      "time: 28.2 ms (started: 2021-12-08 22:24:31 -05:00)\n"
     ]
    }
   ],
   "source": [
    "unique"
   ]
  },
  {
   "cell_type": "code",
   "execution_count": 44,
   "id": "206c6eb1",
   "metadata": {},
   "outputs": [
    {
     "data": {
      "text/plain": [
       "100944"
      ]
     },
     "execution_count": 44,
     "metadata": {},
     "output_type": "execute_result"
    },
    {
     "name": "stdout",
     "output_type": "stream",
     "text": [
      "time: 9.56 ms (started: 2021-12-08 22:25:17 -05:00)\n"
     ]
    }
   ],
   "source": [
    "unique.memory_usage(index=True).sum()"
   ]
  },
  {
   "cell_type": "markdown",
   "id": "ed9a92ca",
   "metadata": {},
   "source": [
    "The sql unique data is 0.10mb with 701 observations."
   ]
  },
  {
   "cell_type": "markdown",
   "id": "25bf20fa",
   "metadata": {},
   "source": [
    "### <font color=\"magenta\"> Starting to look at scores by song"
   ]
  },
  {
   "cell_type": "markdown",
   "id": "7ede644d",
   "metadata": {},
   "source": [
    "**Here we performed a groupby on the database merge (with duplicates of songs), in order to see the number of times a song recieved reviews on Pitchfork and what it's average score was**"
   ]
  },
  {
   "cell_type": "code",
   "execution_count": 45,
   "id": "9c1029b4",
   "metadata": {},
   "outputs": [
    {
     "name": "stdout",
     "output_type": "stream",
     "text": [
      "time: 674 µs (started: 2021-12-08 22:25:20 -05:00)\n"
     ]
    }
   ],
   "source": [
    "groups = merge.groupby(\"song\")"
   ]
  },
  {
   "cell_type": "code",
   "execution_count": 46,
   "id": "606548d7",
   "metadata": {},
   "outputs": [
    {
     "data": {
      "text/plain": [
       "song                score\n",
       "#1                  4.9      20\n",
       "1-2-3               6.1      39\n",
       "18                  2.6       1\n",
       "19                  7.9      14\n",
       "1999                4.8      30\n",
       "                             ..\n",
       "you should be here  7.4      20\n",
       "young americans     8.7      11\n",
       "young forever       3.4      25\n",
       "youth               4.9      20\n",
       "yuck                8.1       1\n",
       "Name: score, Length: 853, dtype: int64"
      ]
     },
     "execution_count": 46,
     "metadata": {},
     "output_type": "execute_result"
    },
    {
     "name": "stdout",
     "output_type": "stream",
     "text": [
      "time: 44.7 ms (started: 2021-12-08 22:25:22 -05:00)\n"
     ]
    }
   ],
   "source": [
    "groups[\"score\"].value_counts()"
   ]
  },
  {
   "cell_type": "markdown",
   "id": "b6bf81e8",
   "metadata": {},
   "source": [
    "### <font color=\"magenta\"> Data frame of songs that have reviews but have not been on the Billboard \"Top 100\""
   ]
  },
  {
   "cell_type": "markdown",
   "id": "b5d773b3",
   "metadata": {},
   "source": [
    "**By creating this dataframe, nottop, we may analyze the average review score for songs that were not popular enough to make it to Billboard's Top 100 list**"
   ]
  },
  {
   "cell_type": "code",
   "execution_count": 47,
   "id": "5d317063",
   "metadata": {},
   "outputs": [
    {
     "name": "stdout",
     "output_type": "stream",
     "text": [
      "time: 32.9 ms (started: 2021-12-08 22:25:25 -05:00)\n"
     ]
    }
   ],
   "source": [
    "nottop = reviews_df[~reviews_df['title'].isin(billboard['song'])]"
   ]
  },
  {
   "cell_type": "code",
   "execution_count": 48,
   "id": "900ee631",
   "metadata": {},
   "outputs": [
    {
     "name": "stdout",
     "output_type": "stream",
     "text": [
      "time: 14.4 ms (started: 2021-12-08 22:25:26 -05:00)\n"
     ]
    }
   ],
   "source": [
    "nottop = nottop.drop_duplicates(subset=['url'],keep='last')"
   ]
  },
  {
   "cell_type": "code",
   "execution_count": 49,
   "id": "c905a33d",
   "metadata": {},
   "outputs": [
    {
     "data": {
      "text/html": [
       "<div>\n",
       "<style scoped>\n",
       "    .dataframe tbody tr th:only-of-type {\n",
       "        vertical-align: middle;\n",
       "    }\n",
       "\n",
       "    .dataframe tbody tr th {\n",
       "        vertical-align: top;\n",
       "    }\n",
       "\n",
       "    .dataframe thead th {\n",
       "        text-align: right;\n",
       "    }\n",
       "</style>\n",
       "<table border=\"1\" class=\"dataframe\">\n",
       "  <thead>\n",
       "    <tr style=\"text-align: right;\">\n",
       "      <th></th>\n",
       "      <th>reviewid</th>\n",
       "      <th>title</th>\n",
       "      <th>artist</th>\n",
       "      <th>url</th>\n",
       "      <th>score</th>\n",
       "      <th>best_new_music</th>\n",
       "      <th>author</th>\n",
       "      <th>author_type</th>\n",
       "      <th>pub_date</th>\n",
       "      <th>pub_weekday</th>\n",
       "      <th>pub_day</th>\n",
       "      <th>pub_month</th>\n",
       "      <th>pub_year</th>\n",
       "    </tr>\n",
       "  </thead>\n",
       "  <tbody>\n",
       "    <tr>\n",
       "      <th>0</th>\n",
       "      <td>22703</td>\n",
       "      <td>mezzanine</td>\n",
       "      <td>massive attack</td>\n",
       "      <td>http://pitchfork.com/reviews/albums/22703-mezz...</td>\n",
       "      <td>9.3</td>\n",
       "      <td>0</td>\n",
       "      <td>nate patrin</td>\n",
       "      <td>contributor</td>\n",
       "      <td>2017-01-08</td>\n",
       "      <td>6</td>\n",
       "      <td>8</td>\n",
       "      <td>1</td>\n",
       "      <td>2017</td>\n",
       "    </tr>\n",
       "    <tr>\n",
       "      <th>1</th>\n",
       "      <td>22721</td>\n",
       "      <td>prelapsarian</td>\n",
       "      <td>krallice</td>\n",
       "      <td>http://pitchfork.com/reviews/albums/22721-prel...</td>\n",
       "      <td>7.9</td>\n",
       "      <td>0</td>\n",
       "      <td>zoe camp</td>\n",
       "      <td>contributor</td>\n",
       "      <td>2017-01-07</td>\n",
       "      <td>5</td>\n",
       "      <td>7</td>\n",
       "      <td>1</td>\n",
       "      <td>2017</td>\n",
       "    </tr>\n",
       "    <tr>\n",
       "      <th>2</th>\n",
       "      <td>22659</td>\n",
       "      <td>all of them naturals</td>\n",
       "      <td>uranium club</td>\n",
       "      <td>http://pitchfork.com/reviews/albums/22659-all-...</td>\n",
       "      <td>7.3</td>\n",
       "      <td>0</td>\n",
       "      <td>david glickman</td>\n",
       "      <td>contributor</td>\n",
       "      <td>2017-01-07</td>\n",
       "      <td>5</td>\n",
       "      <td>7</td>\n",
       "      <td>1</td>\n",
       "      <td>2017</td>\n",
       "    </tr>\n",
       "    <tr>\n",
       "      <th>3</th>\n",
       "      <td>22661</td>\n",
       "      <td>first songs</td>\n",
       "      <td>kleenex, liliput</td>\n",
       "      <td>http://pitchfork.com/reviews/albums/22661-firs...</td>\n",
       "      <td>9.0</td>\n",
       "      <td>1</td>\n",
       "      <td>jenn pelly</td>\n",
       "      <td>associate reviews editor</td>\n",
       "      <td>2017-01-06</td>\n",
       "      <td>4</td>\n",
       "      <td>6</td>\n",
       "      <td>1</td>\n",
       "      <td>2017</td>\n",
       "    </tr>\n",
       "    <tr>\n",
       "      <th>4</th>\n",
       "      <td>22725</td>\n",
       "      <td>new start</td>\n",
       "      <td>taso</td>\n",
       "      <td>http://pitchfork.com/reviews/albums/22725-new-...</td>\n",
       "      <td>8.1</td>\n",
       "      <td>0</td>\n",
       "      <td>kevin lozano</td>\n",
       "      <td>tracks coordinator</td>\n",
       "      <td>2017-01-06</td>\n",
       "      <td>4</td>\n",
       "      <td>6</td>\n",
       "      <td>1</td>\n",
       "      <td>2017</td>\n",
       "    </tr>\n",
       "    <tr>\n",
       "      <th>...</th>\n",
       "      <td>...</td>\n",
       "      <td>...</td>\n",
       "      <td>...</td>\n",
       "      <td>...</td>\n",
       "      <td>...</td>\n",
       "      <td>...</td>\n",
       "      <td>...</td>\n",
       "      <td>...</td>\n",
       "      <td>...</td>\n",
       "      <td>...</td>\n",
       "      <td>...</td>\n",
       "      <td>...</td>\n",
       "      <td>...</td>\n",
       "    </tr>\n",
       "    <tr>\n",
       "      <th>18387</th>\n",
       "      <td>6372</td>\n",
       "      <td>cd 2</td>\n",
       "      <td>pole</td>\n",
       "      <td>http://pitchfork.com/reviews/albums/6372-cd-2/</td>\n",
       "      <td>7.2</td>\n",
       "      <td>0</td>\n",
       "      <td>mark richard-san</td>\n",
       "      <td>None</td>\n",
       "      <td>1999-02-01</td>\n",
       "      <td>0</td>\n",
       "      <td>1</td>\n",
       "      <td>2</td>\n",
       "      <td>1999</td>\n",
       "    </tr>\n",
       "    <tr>\n",
       "      <th>18388</th>\n",
       "      <td>1535</td>\n",
       "      <td>let us replay!</td>\n",
       "      <td>coldcut</td>\n",
       "      <td>http://pitchfork.com/reviews/albums/1535-let-u...</td>\n",
       "      <td>8.9</td>\n",
       "      <td>0</td>\n",
       "      <td>james p. wisdom</td>\n",
       "      <td>None</td>\n",
       "      <td>1999-01-26</td>\n",
       "      <td>1</td>\n",
       "      <td>26</td>\n",
       "      <td>1</td>\n",
       "      <td>1999</td>\n",
       "    </tr>\n",
       "    <tr>\n",
       "      <th>18390</th>\n",
       "      <td>5376</td>\n",
       "      <td>out of tune</td>\n",
       "      <td>mojave 3</td>\n",
       "      <td>http://pitchfork.com/reviews/albums/5376-out-o...</td>\n",
       "      <td>6.3</td>\n",
       "      <td>0</td>\n",
       "      <td>jason josephes</td>\n",
       "      <td>contributor</td>\n",
       "      <td>1999-01-12</td>\n",
       "      <td>1</td>\n",
       "      <td>12</td>\n",
       "      <td>1</td>\n",
       "      <td>1999</td>\n",
       "    </tr>\n",
       "    <tr>\n",
       "      <th>18391</th>\n",
       "      <td>2413</td>\n",
       "      <td>singles breaking up, vol. 1</td>\n",
       "      <td>don caballero</td>\n",
       "      <td>http://pitchfork.com/reviews/albums/2413-singl...</td>\n",
       "      <td>7.2</td>\n",
       "      <td>0</td>\n",
       "      <td>james p. wisdom</td>\n",
       "      <td>None</td>\n",
       "      <td>1999-01-12</td>\n",
       "      <td>1</td>\n",
       "      <td>12</td>\n",
       "      <td>1</td>\n",
       "      <td>1999</td>\n",
       "    </tr>\n",
       "    <tr>\n",
       "      <th>18392</th>\n",
       "      <td>3723</td>\n",
       "      <td>left for dead in malaysia</td>\n",
       "      <td>neil hamburger</td>\n",
       "      <td>http://pitchfork.com/reviews/albums/3723-left-...</td>\n",
       "      <td>6.5</td>\n",
       "      <td>0</td>\n",
       "      <td>jason josephes</td>\n",
       "      <td>contributor</td>\n",
       "      <td>1999-01-05</td>\n",
       "      <td>1</td>\n",
       "      <td>5</td>\n",
       "      <td>1</td>\n",
       "      <td>1999</td>\n",
       "    </tr>\n",
       "  </tbody>\n",
       "</table>\n",
       "<p>17528 rows × 13 columns</p>\n",
       "</div>"
      ],
      "text/plain": [
       "       reviewid                        title            artist  \\\n",
       "0         22703                    mezzanine    massive attack   \n",
       "1         22721                 prelapsarian          krallice   \n",
       "2         22659         all of them naturals      uranium club   \n",
       "3         22661                  first songs  kleenex, liliput   \n",
       "4         22725                    new start              taso   \n",
       "...         ...                          ...               ...   \n",
       "18387      6372                         cd 2              pole   \n",
       "18388      1535               let us replay!           coldcut   \n",
       "18390      5376                  out of tune          mojave 3   \n",
       "18391      2413  singles breaking up, vol. 1     don caballero   \n",
       "18392      3723    left for dead in malaysia    neil hamburger   \n",
       "\n",
       "                                                     url  score  \\\n",
       "0      http://pitchfork.com/reviews/albums/22703-mezz...    9.3   \n",
       "1      http://pitchfork.com/reviews/albums/22721-prel...    7.9   \n",
       "2      http://pitchfork.com/reviews/albums/22659-all-...    7.3   \n",
       "3      http://pitchfork.com/reviews/albums/22661-firs...    9.0   \n",
       "4      http://pitchfork.com/reviews/albums/22725-new-...    8.1   \n",
       "...                                                  ...    ...   \n",
       "18387     http://pitchfork.com/reviews/albums/6372-cd-2/    7.2   \n",
       "18388  http://pitchfork.com/reviews/albums/1535-let-u...    8.9   \n",
       "18390  http://pitchfork.com/reviews/albums/5376-out-o...    6.3   \n",
       "18391  http://pitchfork.com/reviews/albums/2413-singl...    7.2   \n",
       "18392  http://pitchfork.com/reviews/albums/3723-left-...    6.5   \n",
       "\n",
       "       best_new_music            author               author_type    pub_date  \\\n",
       "0                   0       nate patrin               contributor  2017-01-08   \n",
       "1                   0          zoe camp               contributor  2017-01-07   \n",
       "2                   0    david glickman               contributor  2017-01-07   \n",
       "3                   1        jenn pelly  associate reviews editor  2017-01-06   \n",
       "4                   0      kevin lozano        tracks coordinator  2017-01-06   \n",
       "...               ...               ...                       ...         ...   \n",
       "18387               0  mark richard-san                      None  1999-02-01   \n",
       "18388               0   james p. wisdom                      None  1999-01-26   \n",
       "18390               0    jason josephes               contributor  1999-01-12   \n",
       "18391               0   james p. wisdom                      None  1999-01-12   \n",
       "18392               0    jason josephes               contributor  1999-01-05   \n",
       "\n",
       "       pub_weekday  pub_day  pub_month  pub_year  \n",
       "0                6        8          1      2017  \n",
       "1                5        7          1      2017  \n",
       "2                5        7          1      2017  \n",
       "3                4        6          1      2017  \n",
       "4                4        6          1      2017  \n",
       "...            ...      ...        ...       ...  \n",
       "18387            0        1          2      1999  \n",
       "18388            1       26          1      1999  \n",
       "18390            1       12          1      1999  \n",
       "18391            1       12          1      1999  \n",
       "18392            1        5          1      1999  \n",
       "\n",
       "[17528 rows x 13 columns]"
      ]
     },
     "execution_count": 49,
     "metadata": {},
     "output_type": "execute_result"
    },
    {
     "name": "stdout",
     "output_type": "stream",
     "text": [
      "time: 24.4 ms (started: 2021-12-08 22:25:31 -05:00)\n"
     ]
    }
   ],
   "source": [
    "nottop"
   ]
  },
  {
   "cell_type": "code",
   "execution_count": 50,
   "id": "111a5574",
   "metadata": {},
   "outputs": [
    {
     "data": {
      "text/plain": [
       "1963136"
      ]
     },
     "execution_count": 50,
     "metadata": {},
     "output_type": "execute_result"
    },
    {
     "name": "stdout",
     "output_type": "stream",
     "text": [
      "time: 4.5 ms (started: 2021-12-08 22:25:38 -05:00)\n"
     ]
    }
   ],
   "source": [
    "nottop.memory_usage(index=True).sum()"
   ]
  },
  {
   "cell_type": "markdown",
   "id": "89c2a276",
   "metadata": {},
   "source": [
    "The nottop data is 1.97mb with 17,528 observations."
   ]
  },
  {
   "cell_type": "code",
   "execution_count": 52,
   "id": "2730283a",
   "metadata": {},
   "outputs": [
    {
     "name": "stdout",
     "output_type": "stream",
     "text": [
      "time: 544 µs (started: 2021-12-08 22:26:12 -05:00)\n"
     ]
    }
   ],
   "source": [
    "group = nottop.groupby(\"title\")"
   ]
  },
  {
   "cell_type": "code",
   "execution_count": 53,
   "id": "b2d8e7ba",
   "metadata": {},
   "outputs": [
    {
     "data": {
      "text/plain": [
       "title             score\n",
       "                  5.0      1\n",
       "                  8.4      1\n",
       "\"cassette\" ep     7.8      1\n",
       "\"couples\"         5.8      1\n",
       "\"evidence\" 12\"    7.6      1\n",
       "                          ..\n",
       "zummo with an x   8.0      1\n",
       "zwei              7.3      1\n",
       "zwei photonen ep  8.0      1\n",
       "zweite meer       6.9      1\n",
       "{awayland}        5.5      1\n",
       "Name: score, Length: 17494, dtype: int64"
      ]
     },
     "execution_count": 53,
     "metadata": {},
     "output_type": "execute_result"
    },
    {
     "name": "stdout",
     "output_type": "stream",
     "text": [
      "time: 43.2 ms (started: 2021-12-08 22:26:13 -05:00)\n"
     ]
    }
   ],
   "source": [
    "group[\"score\"].value_counts()"
   ]
  },
  {
   "cell_type": "markdown",
   "id": "a11c7b88",
   "metadata": {},
   "source": [
    "### <font color=\"magenta\"> Starting the graphs"
   ]
  },
  {
   "cell_type": "markdown",
   "id": "4bf7fbe2",
   "metadata": {},
   "source": [
    "**Our first visual is a scatter plot comparing the average review score of songs both on the Billboard chart and not on the Billboard chart(from Pitchfork) and their peak-rank, as taken from Billbaord data**"
   ]
  },
  {
   "cell_type": "code",
   "execution_count": 54,
   "id": "36a6fdac",
   "metadata": {},
   "outputs": [
    {
     "name": "stdout",
     "output_type": "stream",
     "text": [
      "time: 928 ms (started: 2021-12-08 22:26:40 -05:00)\n"
     ]
    }
   ],
   "source": [
    "import matplotlib.pyplot as plt\n",
    "%matplotlib inline"
   ]
  },
  {
   "cell_type": "code",
   "execution_count": 55,
   "id": "741b2636",
   "metadata": {},
   "outputs": [
    {
     "name": "stdout",
     "output_type": "stream",
     "text": [
      "time: 1.69 ms (started: 2021-12-08 22:26:41 -05:00)\n"
     ]
    }
   ],
   "source": [
    "rating_top = unique.score.to_list()\n",
    "rating_nottop = nottop.score.to_list()"
   ]
  },
  {
   "cell_type": "code",
   "execution_count": 56,
   "id": "ac7f66d7",
   "metadata": {},
   "outputs": [
    {
     "name": "stdout",
     "output_type": "stream",
     "text": [
      "time: 495 µs (started: 2021-12-08 22:26:41 -05:00)\n"
     ]
    }
   ],
   "source": [
    "billboard_rank = unique['peak-rank'].to_list()"
   ]
  },
  {
   "cell_type": "code",
   "execution_count": 57,
   "id": "1e5b35c7",
   "metadata": {},
   "outputs": [
    {
     "name": "stdout",
     "output_type": "stream",
     "text": [
      "time: 812 µs (started: 2021-12-08 22:26:42 -05:00)\n"
     ]
    }
   ],
   "source": [
    "title_top = unique.song.to_list()\n",
    "title_nottop = nottop.title.to_list()"
   ]
  },
  {
   "cell_type": "code",
   "execution_count": 58,
   "id": "222e4f2c",
   "metadata": {},
   "outputs": [
    {
     "name": "stdout",
     "output_type": "stream",
     "text": [
      "time: 950 µs (started: 2021-12-08 22:26:42 -05:00)\n"
     ]
    }
   ],
   "source": [
    "not_score = nottop.score.to_list()"
   ]
  },
  {
   "cell_type": "code",
   "execution_count": 59,
   "id": "17e8dc18",
   "metadata": {},
   "outputs": [
    {
     "name": "stdout",
     "output_type": "stream",
     "text": [
      "time: 1.14 ms (started: 2021-12-08 22:26:43 -05:00)\n"
     ]
    }
   ],
   "source": [
    "not_id = nottop.reviewid.to_list()"
   ]
  },
  {
   "cell_type": "code",
   "execution_count": 60,
   "id": "2f04efee",
   "metadata": {},
   "outputs": [
    {
     "data": {
      "text/plain": [
       "6.968188302425108"
      ]
     },
     "execution_count": 60,
     "metadata": {},
     "output_type": "execute_result"
    },
    {
     "name": "stdout",
     "output_type": "stream",
     "text": [
      "time: 6.72 ms (started: 2021-12-08 22:26:43 -05:00)\n"
     ]
    }
   ],
   "source": [
    "unique.score.mean()"
   ]
  },
  {
   "cell_type": "code",
   "execution_count": 61,
   "id": "db9aa9c9",
   "metadata": {},
   "outputs": [
    {
     "data": {
      "text/plain": [
       "<matplotlib.collections.PathCollection at 0x7fe5857e90b8>"
      ]
     },
     "execution_count": 61,
     "metadata": {},
     "output_type": "execute_result"
    },
    {
     "data": {
      "image/png": "[encoded data removed]",
      "text/plain": [
       "<Figure size 432x288 with 1 Axes>"
      ]
     },
     "metadata": {
      "needs_background": "light"
     },
     "output_type": "display_data"
    },
    {
     "name": "stdout",
     "output_type": "stream",
     "text": [
      "time: 324 ms (started: 2021-12-08 22:26:43 -05:00)\n"
     ]
    }
   ],
   "source": [
    "plt.scatter(x= not_score, y = not_id)\n",
    "#plt.xlabel('Average Pitchfork Score')\n",
    "#plt.ylabel('Billboard Peak Rank')"
   ]
  },
  {
   "cell_type": "code",
   "execution_count": 62,
   "id": "9c21344c",
   "metadata": {},
   "outputs": [
    {
     "data": {
      "text/plain": [
       "Text(0, 0.5, 'Billboard Peak Rank')"
      ]
     },
     "execution_count": 62,
     "metadata": {},
     "output_type": "execute_result"
    },
    {
     "data": {
      "image/png": "[encoded data removed]",
      "text/plain": [
       "<Figure size 432x288 with 1 Axes>"
      ]
     },
     "metadata": {
      "needs_background": "light"
     },
     "output_type": "display_data"
    },
    {
     "name": "stdout",
     "output_type": "stream",
     "text": [
      "time: 175 ms (started: 2021-12-08 22:26:44 -05:00)\n"
     ]
    }
   ],
   "source": [
    "plt.scatter(x= rating_top, y = billboard_rank)\n",
    "plt.xlabel('Average Pitchfork Score')\n",
    "plt.ylabel('Billboard Peak Rank')"
   ]
  },
  {
   "cell_type": "markdown",
   "id": "a9dce954",
   "metadata": {},
   "source": [
    "### <font color=\"magenta\"> the majority of billboard hot 100 songs are rank at 6.97 with no apparent positive or negative trend between rating and location on the billboard hot 100"
   ]
  },
  {
   "cell_type": "markdown",
   "id": "e6f9eb60",
   "metadata": {},
   "source": [
    "### <font color=\"magenta\"> Second visualization"
   ]
  },
  {
   "cell_type": "markdown",
   "id": "d76482d1",
   "metadata": {},
   "source": [
    "**Our secondary goal is to compare song review sentiment scores from songs on “The Hot 100” list using a histogram. The histogram would have the sentiment score on the x-axis from positive to negative. This would be interesting to see if popular songs are reviewed more positively or if the reviews are polarized.**"
   ]
  },
  {
   "cell_type": "code",
   "execution_count": 63,
   "id": "e1fbeae4",
   "metadata": {},
   "outputs": [
    {
     "name": "stdout",
     "output_type": "stream",
     "text": [
      "time: 3.47 s (started: 2021-12-08 22:26:48 -05:00)\n"
     ]
    }
   ],
   "source": [
    "from nltk.sentiment.vader import SentimentIntensityAnalyzer\n",
    "from bs4 import BeautifulSoup\n",
    "import requests\n",
    "import json"
   ]
  },
  {
   "cell_type": "code",
   "execution_count": 64,
   "id": "0cd7783d",
   "metadata": {},
   "outputs": [
    {
     "name": "stdout",
     "output_type": "stream",
     "text": [
      "time: 39.5 ms (started: 2021-12-08 22:26:52 -05:00)\n"
     ]
    }
   ],
   "source": [
    "sid = SentimentIntensityAnalyzer()"
   ]
  },
  {
   "cell_type": "code",
   "execution_count": 65,
   "id": "0ecf0a48",
   "metadata": {},
   "outputs": [
    {
     "name": "stdout",
     "output_type": "stream",
     "text": [
      "time: 1.18 s (started: 2021-12-08 22:26:52 -05:00)\n"
     ]
    }
   ],
   "source": [
    "def scrape_review_text(url):\n",
    "    response = requests.get(url)\n",
    "    #response_dict = json.loads(response.text)\n",
    "    soup = BeautifulSoup(response.text)\n",
    "    paragraph = soup.find('meta', { 'name': \"description\" })\n",
    "    return str(paragraph)\n",
    "trial = scrape_review_text('http://pitchfork.com/reviews/albums/22669-out-of-time/')"
   ]
  },
  {
   "cell_type": "code",
   "execution_count": 66,
   "id": "38867ae5",
   "metadata": {},
   "outputs": [
    {
     "data": {
      "text/plain": [
       "'<meta content=\"Along with Nevermind, released a half year later, R.E.M.’s\\xa0Out of Time\\xa0was the early-’90s major-label ideal: A\\xa0blockbuster that multiplied the band’s following without losing existing fans.\" data-react-helmet=\"true\" name=\"description\" property=\"description\"/>'"
      ]
     },
     "execution_count": 66,
     "metadata": {},
     "output_type": "execute_result"
    },
    {
     "name": "stdout",
     "output_type": "stream",
     "text": [
      "time: 4.97 ms (started: 2021-12-08 22:26:53 -05:00)\n"
     ]
    }
   ],
   "source": [
    "trial"
   ]
  },
  {
   "cell_type": "code",
   "execution_count": 67,
   "id": "204fb109",
   "metadata": {},
   "outputs": [
    {
     "name": "stdout",
     "output_type": "stream",
     "text": [
      "time: 6.81 ms (started: 2021-12-08 22:26:53 -05:00)\n"
     ]
    }
   ],
   "source": [
    "sampled_on_billboard = unique['url'].sample(100)\n",
    "sampled_not_billboard = nottop['url'].sample(100)"
   ]
  },
  {
   "cell_type": "markdown",
   "id": "72c204cc",
   "metadata": {},
   "source": [
    "### <font color=\"magenta\"> Most computationally expensive function below"
   ]
  },
  {
   "cell_type": "markdown",
   "id": "6ac90cea",
   "metadata": {},
   "source": [
    "To make this less computationally expensive, we sampled the dataframes to only get 100 rows from each. We sampled instead of using all the songs because pulling the article body from the url and storing it in our dataframe too much time and space. "
   ]
  },
  {
   "cell_type": "code",
   "execution_count": 68,
   "id": "ce0f1e55",
   "metadata": {},
   "outputs": [
    {
     "name": "stdout",
     "output_type": "stream",
     "text": [
      "time: 2min 13s (started: 2021-12-08 22:26:58 -05:00)\n"
     ]
    }
   ],
   "source": [
    "billboard_article_bodies = sampled_on_billboard.apply(scrape_review_text)\n",
    "not_article_bodies = sampled_not_billboard.apply(scrape_review_text)"
   ]
  },
  {
   "cell_type": "code",
   "execution_count": 69,
   "id": "5d196de8",
   "metadata": {},
   "outputs": [
    {
     "name": "stdout",
     "output_type": "stream",
     "text": [
      "time: 619 µs (started: 2021-12-08 22:29:39 -05:00)\n"
     ]
    }
   ],
   "source": [
    "def apply_sentiment(column):\n",
    "    ss = sid.polarity_scores(column)\n",
    "    return ss"
   ]
  },
  {
   "cell_type": "code",
   "execution_count": 70,
   "id": "0e80e2f9",
   "metadata": {},
   "outputs": [
    {
     "name": "stdout",
     "output_type": "stream",
     "text": [
      "time: 697 µs (started: 2021-12-08 22:29:39 -05:00)\n"
     ]
    }
   ],
   "source": [
    "def apply_compound(column):\n",
    "    return column['compound']\n",
    "def apply_negative(column):\n",
    "    return column['neg']\n",
    "def apply_pos(column):\n",
    "    return column['pos']"
   ]
  },
  {
   "cell_type": "code",
   "execution_count": 71,
   "id": "554ace81",
   "metadata": {},
   "outputs": [
    {
     "name": "stdout",
     "output_type": "stream",
     "text": [
      "time: 52.3 ms (started: 2021-12-08 22:29:40 -05:00)\n"
     ]
    }
   ],
   "source": [
    "#making the article body dataframes (not on billboard)\n",
    "not_article_body_df = pd.DataFrame(not_article_bodies)\n",
    "not_article_body_df = not_article_body_df.rename(columns = {'url':'body'})\n",
    "not_article_body_df['url'] = sampled_not_billboard\n",
    "not_article_body_df['sentiment'] = not_article_body_df['body'].apply(apply_sentiment)\n",
    "not_article_body_df['compound'] = not_article_body_df['sentiment'].apply(apply_compound)\n"
   ]
  },
  {
   "cell_type": "code",
   "execution_count": 72,
   "id": "13bb3f00",
   "metadata": {},
   "outputs": [
    {
     "name": "stdout",
     "output_type": "stream",
     "text": [
      "time: 3.79 ms (started: 2021-12-08 22:29:42 -05:00)\n"
     ]
    }
   ],
   "source": [
    "#making the article body dataframes (on billboard)\n",
    "article_body_df = pd.DataFrame(billboard_article_bodies)\n",
    "article_body_df = article_body_df.rename(columns = {'url':'body'})\n",
    "article_body_df['url'] = sampled_on_billboard"
   ]
  },
  {
   "cell_type": "code",
   "execution_count": 83,
   "id": "9a492262",
   "metadata": {},
   "outputs": [
    {
     "data": {
      "text/html": [
       "<div>\n",
       "<style scoped>\n",
       "    .dataframe tbody tr th:only-of-type {\n",
       "        vertical-align: middle;\n",
       "    }\n",
       "\n",
       "    .dataframe tbody tr th {\n",
       "        vertical-align: top;\n",
       "    }\n",
       "\n",
       "    .dataframe thead th {\n",
       "        text-align: right;\n",
       "    }\n",
       "</style>\n",
       "<table border=\"1\" class=\"dataframe\">\n",
       "  <thead>\n",
       "    <tr style=\"text-align: right;\">\n",
       "      <th></th>\n",
       "      <th>body</th>\n",
       "      <th>url</th>\n",
       "      <th>sentiment</th>\n",
       "      <th>compound</th>\n",
       "      <th>negative</th>\n",
       "      <th>peak-rank</th>\n",
       "      <th>weeks-on-board</th>\n",
       "    </tr>\n",
       "  </thead>\n",
       "  <tbody>\n",
       "    <tr>\n",
       "      <th>282</th>\n",
       "      <td>&lt;meta content=\"Redemption concludes Dawn Richa...</td>\n",
       "      <td>http://pitchfork.com/reviews/albums/22648-rede...</td>\n",
       "      <td>{'neg': 0.139, 'neu': 0.861, 'pos': 0.0, 'comp...</td>\n",
       "      <td>-0.4939</td>\n",
       "      <td>0.139</td>\n",
       "      <td>61.0</td>\n",
       "      <td>3.0</td>\n",
       "    </tr>\n",
       "    <tr>\n",
       "      <th>19627</th>\n",
       "      <td>&lt;meta content=\"Unpretentious Midwestern blues-...</td>\n",
       "      <td>http://pitchfork.com/reviews/albums/9316-all-t...</td>\n",
       "      <td>{'neg': 0.0, 'neu': 1.0, 'pos': 0.0, 'compound...</td>\n",
       "      <td>0.0000</td>\n",
       "      <td>0.000</td>\n",
       "      <td>NaN</td>\n",
       "      <td>NaN</td>\n",
       "    </tr>\n",
       "    <tr>\n",
       "      <th>7771</th>\n",
       "      <td>&lt;meta content=\"Mess is the first Liars album t...</td>\n",
       "      <td>http://pitchfork.com/reviews/albums/19121-liar...</td>\n",
       "      <td>{'neg': 0.089, 'neu': 0.833, 'pos': 0.078, 'co...</td>\n",
       "      <td>-0.1027</td>\n",
       "      <td>0.089</td>\n",
       "      <td>74.0</td>\n",
       "      <td>1.0</td>\n",
       "    </tr>\n",
       "    <tr>\n",
       "      <th>19124</th>\n",
       "      <td>&lt;meta content=\"Underground supergroup featurin...</td>\n",
       "      <td>http://pitchfork.com/reviews/albums/10361-anon...</td>\n",
       "      <td>{'neg': 0.0, 'neu': 1.0, 'pos': 0.0, 'compound...</td>\n",
       "      <td>0.0000</td>\n",
       "      <td>0.000</td>\n",
       "      <td>NaN</td>\n",
       "      <td>NaN</td>\n",
       "    </tr>\n",
       "    <tr>\n",
       "      <th>17197</th>\n",
       "      <td>&lt;meta content=\"After a 17-year wait, Chinese D...</td>\n",
       "      <td>http://pitchfork.com/reviews/albums/12469-chin...</td>\n",
       "      <td>{'neg': 0.163, 'neu': 0.722, 'pos': 0.115, 'co...</td>\n",
       "      <td>-0.4527</td>\n",
       "      <td>0.163</td>\n",
       "      <td>NaN</td>\n",
       "      <td>NaN</td>\n",
       "    </tr>\n",
       "    <tr>\n",
       "      <th>...</th>\n",
       "      <td>...</td>\n",
       "      <td>...</td>\n",
       "      <td>...</td>\n",
       "      <td>...</td>\n",
       "      <td>...</td>\n",
       "      <td>...</td>\n",
       "      <td>...</td>\n",
       "    </tr>\n",
       "    <tr>\n",
       "      <th>4669</th>\n",
       "      <td>&lt;meta content=\"Graham Walsh and Julie Fader, t...</td>\n",
       "      <td>http://pitchfork.com/reviews/albums/20361-remi...</td>\n",
       "      <td>{'neg': 0.104, 'neu': 0.778, 'pos': 0.118, 'co...</td>\n",
       "      <td>0.2382</td>\n",
       "      <td>0.104</td>\n",
       "      <td>57.0</td>\n",
       "      <td>20.0</td>\n",
       "    </tr>\n",
       "    <tr>\n",
       "      <th>15623</th>\n",
       "      <td>&lt;meta content='Woodsist presents the first ful...</td>\n",
       "      <td>http://pitchfork.com/reviews/albums/14117-escape/</td>\n",
       "      <td>{'neg': 0.0, 'neu': 1.0, 'pos': 0.0, 'compound...</td>\n",
       "      <td>0.0000</td>\n",
       "      <td>0.000</td>\n",
       "      <td>NaN</td>\n",
       "      <td>NaN</td>\n",
       "    </tr>\n",
       "    <tr>\n",
       "      <th>15748</th>\n",
       "      <td>&lt;meta content=\"Backpacker latecomers shift to ...</td>\n",
       "      <td>http://pitchfork.com/reviews/albums/13994-land...</td>\n",
       "      <td>{'neg': 0.0, 'neu': 1.0, 'pos': 0.0, 'compound...</td>\n",
       "      <td>0.0000</td>\n",
       "      <td>0.000</td>\n",
       "      <td>NaN</td>\n",
       "      <td>NaN</td>\n",
       "    </tr>\n",
       "    <tr>\n",
       "      <th>16818</th>\n",
       "      <td>&lt;meta content=\"Fat Possum reissues three recor...</td>\n",
       "      <td>http://pitchfork.com/reviews/albums/12927-lets...</td>\n",
       "      <td>{'neg': 0.0, 'neu': 1.0, 'pos': 0.0, 'compound...</td>\n",
       "      <td>0.0000</td>\n",
       "      <td>0.000</td>\n",
       "      <td>NaN</td>\n",
       "      <td>NaN</td>\n",
       "    </tr>\n",
       "    <tr>\n",
       "      <th>21678</th>\n",
       "      <td>&lt;meta content=\"This happened once before, at l...</td>\n",
       "      <td>http://pitchfork.com/reviews/albums/576-the-ri...</td>\n",
       "      <td>{'neg': 0.0, 'neu': 1.0, 'pos': 0.0, 'compound...</td>\n",
       "      <td>0.0000</td>\n",
       "      <td>0.000</td>\n",
       "      <td>NaN</td>\n",
       "      <td>NaN</td>\n",
       "    </tr>\n",
       "  </tbody>\n",
       "</table>\n",
       "<p>100 rows × 7 columns</p>\n",
       "</div>"
      ],
      "text/plain": [
       "                                                    body  \\\n",
       "282    <meta content=\"Redemption concludes Dawn Richa...   \n",
       "19627  <meta content=\"Unpretentious Midwestern blues-...   \n",
       "7771   <meta content=\"Mess is the first Liars album t...   \n",
       "19124  <meta content=\"Underground supergroup featurin...   \n",
       "17197  <meta content=\"After a 17-year wait, Chinese D...   \n",
       "...                                                  ...   \n",
       "4669   <meta content=\"Graham Walsh and Julie Fader, t...   \n",
       "15623  <meta content='Woodsist presents the first ful...   \n",
       "15748  <meta content=\"Backpacker latecomers shift to ...   \n",
       "16818  <meta content=\"Fat Possum reissues three recor...   \n",
       "21678  <meta content=\"This happened once before, at l...   \n",
       "\n",
       "                                                     url  \\\n",
       "282    http://pitchfork.com/reviews/albums/22648-rede...   \n",
       "19627  http://pitchfork.com/reviews/albums/9316-all-t...   \n",
       "7771   http://pitchfork.com/reviews/albums/19121-liar...   \n",
       "19124  http://pitchfork.com/reviews/albums/10361-anon...   \n",
       "17197  http://pitchfork.com/reviews/albums/12469-chin...   \n",
       "...                                                  ...   \n",
       "4669   http://pitchfork.com/reviews/albums/20361-remi...   \n",
       "15623  http://pitchfork.com/reviews/albums/14117-escape/   \n",
       "15748  http://pitchfork.com/reviews/albums/13994-land...   \n",
       "16818  http://pitchfork.com/reviews/albums/12927-lets...   \n",
       "21678  http://pitchfork.com/reviews/albums/576-the-ri...   \n",
       "\n",
       "                                               sentiment  compound  negative  \\\n",
       "282    {'neg': 0.139, 'neu': 0.861, 'pos': 0.0, 'comp...   -0.4939     0.139   \n",
       "19627  {'neg': 0.0, 'neu': 1.0, 'pos': 0.0, 'compound...    0.0000     0.000   \n",
       "7771   {'neg': 0.089, 'neu': 0.833, 'pos': 0.078, 'co...   -0.1027     0.089   \n",
       "19124  {'neg': 0.0, 'neu': 1.0, 'pos': 0.0, 'compound...    0.0000     0.000   \n",
       "17197  {'neg': 0.163, 'neu': 0.722, 'pos': 0.115, 'co...   -0.4527     0.163   \n",
       "...                                                  ...       ...       ...   \n",
       "4669   {'neg': 0.104, 'neu': 0.778, 'pos': 0.118, 'co...    0.2382     0.104   \n",
       "15623  {'neg': 0.0, 'neu': 1.0, 'pos': 0.0, 'compound...    0.0000     0.000   \n",
       "15748  {'neg': 0.0, 'neu': 1.0, 'pos': 0.0, 'compound...    0.0000     0.000   \n",
       "16818  {'neg': 0.0, 'neu': 1.0, 'pos': 0.0, 'compound...    0.0000     0.000   \n",
       "21678  {'neg': 0.0, 'neu': 1.0, 'pos': 0.0, 'compound...    0.0000     0.000   \n",
       "\n",
       "       peak-rank  weeks-on-board  \n",
       "282         61.0             3.0  \n",
       "19627        NaN             NaN  \n",
       "7771        74.0             1.0  \n",
       "19124        NaN             NaN  \n",
       "17197        NaN             NaN  \n",
       "...          ...             ...  \n",
       "4669        57.0            20.0  \n",
       "15623        NaN             NaN  \n",
       "15748        NaN             NaN  \n",
       "16818        NaN             NaN  \n",
       "21678        NaN             NaN  \n",
       "\n",
       "[100 rows x 7 columns]"
      ]
     },
     "execution_count": 83,
     "metadata": {},
     "output_type": "execute_result"
    },
    {
     "name": "stdout",
     "output_type": "stream",
     "text": [
      "time: 24 ms (started: 2021-12-08 22:38:07 -05:00)\n"
     ]
    }
   ],
   "source": [
    "article_body_df"
   ]
  },
  {
   "cell_type": "code",
   "execution_count": 84,
   "id": "ab8127a0",
   "metadata": {},
   "outputs": [
    {
     "data": {
      "text/html": [
       "<div>\n",
       "<style scoped>\n",
       "    .dataframe tbody tr th:only-of-type {\n",
       "        vertical-align: middle;\n",
       "    }\n",
       "\n",
       "    .dataframe tbody tr th {\n",
       "        vertical-align: top;\n",
       "    }\n",
       "\n",
       "    .dataframe thead th {\n",
       "        text-align: right;\n",
       "    }\n",
       "</style>\n",
       "<table border=\"1\" class=\"dataframe\">\n",
       "  <thead>\n",
       "    <tr style=\"text-align: right;\">\n",
       "      <th></th>\n",
       "      <th>body</th>\n",
       "      <th>url</th>\n",
       "      <th>sentiment</th>\n",
       "      <th>compound</th>\n",
       "    </tr>\n",
       "  </thead>\n",
       "  <tbody>\n",
       "    <tr>\n",
       "      <th>5972</th>\n",
       "      <td>&lt;meta content=\"Analog Africa's first foray int...</td>\n",
       "      <td>http://pitchfork.com/reviews/albums/16109-bamb...</td>\n",
       "      <td>{'neg': 0.0, 'neu': 0.923, 'pos': 0.077, 'comp...</td>\n",
       "      <td>0.4588</td>\n",
       "    </tr>\n",
       "    <tr>\n",
       "      <th>11444</th>\n",
       "      <td>&lt;meta content=\"Jesus and Mary Chain's Jim and ...</td>\n",
       "      <td>http://pitchfork.com/reviews/albums/10163-litt...</td>\n",
       "      <td>{'neg': 0.0, 'neu': 1.0, 'pos': 0.0, 'compound...</td>\n",
       "      <td>0.0000</td>\n",
       "    </tr>\n",
       "    <tr>\n",
       "      <th>14201</th>\n",
       "      <td>&lt;meta content=\"Barsuk's other &amp;quot;O.C.&amp;quot;...</td>\n",
       "      <td>http://pitchfork.com/reviews/albums/465-i-sold...</td>\n",
       "      <td>{'neg': 0.0, 'neu': 1.0, 'pos': 0.0, 'compound...</td>\n",
       "      <td>0.0000</td>\n",
       "    </tr>\n",
       "    <tr>\n",
       "      <th>11144</th>\n",
       "      <td>&lt;meta content=\"A fixture in Berlin's undergrou...</td>\n",
       "      <td>http://pitchfork.com/reviews/albums/10478-i-pu...</td>\n",
       "      <td>{'neg': 0.0, 'neu': 1.0, 'pos': 0.0, 'compound...</td>\n",
       "      <td>0.0000</td>\n",
       "    </tr>\n",
       "    <tr>\n",
       "      <th>9227</th>\n",
       "      <td>&lt;meta content=\"Ferocious and brave, this debut...</td>\n",
       "      <td>http://pitchfork.com/reviews/albums/12786-bird...</td>\n",
       "      <td>{'neg': 0.069, 'neu': 0.649, 'pos': 0.282, 'co...</td>\n",
       "      <td>0.6808</td>\n",
       "    </tr>\n",
       "    <tr>\n",
       "      <th>...</th>\n",
       "      <td>...</td>\n",
       "      <td>...</td>\n",
       "      <td>...</td>\n",
       "      <td>...</td>\n",
       "    </tr>\n",
       "    <tr>\n",
       "      <th>16818</th>\n",
       "      <td>&lt;meta content=\"What the hell happened to these...</td>\n",
       "      <td>http://pitchfork.com/reviews/albums/5774-winte...</td>\n",
       "      <td>{'neg': 0.167, 'neu': 0.833, 'pos': 0.0, 'comp...</td>\n",
       "      <td>-0.6808</td>\n",
       "    </tr>\n",
       "    <tr>\n",
       "      <th>2791</th>\n",
       "      <td>&lt;meta content=\"Ohio power-pop outfit Connectio...</td>\n",
       "      <td>http://pitchfork.com/reviews/albums/19691-conn...</td>\n",
       "      <td>{'neg': 0.0, 'neu': 0.963, 'pos': 0.037, 'comp...</td>\n",
       "      <td>0.0772</td>\n",
       "    </tr>\n",
       "    <tr>\n",
       "      <th>2978</th>\n",
       "      <td>&lt;meta content=\"Matteah Baim's first solo album...</td>\n",
       "      <td>http://pitchfork.com/reviews/albums/19474-matt...</td>\n",
       "      <td>{'neg': 0.0, 'neu': 0.896, 'pos': 0.104, 'comp...</td>\n",
       "      <td>0.4404</td>\n",
       "    </tr>\n",
       "    <tr>\n",
       "      <th>14867</th>\n",
       "      <td>&lt;meta content=\"Exciting though it may be, the ...</td>\n",
       "      <td>http://pitchfork.com/reviews/albums/1114-fire-...</td>\n",
       "      <td>{'neg': 0.0, 'neu': 1.0, 'pos': 0.0, 'compound...</td>\n",
       "      <td>0.0000</td>\n",
       "    </tr>\n",
       "    <tr>\n",
       "      <th>15401</th>\n",
       "      <td>&lt;meta content=\"How minimal is too minimal? Bri...</td>\n",
       "      <td>http://pitchfork.com/reviews/albums/6761-car-p...</td>\n",
       "      <td>{'neg': 0.0, 'neu': 1.0, 'pos': 0.0, 'compound...</td>\n",
       "      <td>0.0000</td>\n",
       "    </tr>\n",
       "  </tbody>\n",
       "</table>\n",
       "<p>100 rows × 4 columns</p>\n",
       "</div>"
      ],
      "text/plain": [
       "                                                    body  \\\n",
       "5972   <meta content=\"Analog Africa's first foray int...   \n",
       "11444  <meta content=\"Jesus and Mary Chain's Jim and ...   \n",
       "14201  <meta content=\"Barsuk's other &quot;O.C.&quot;...   \n",
       "11144  <meta content=\"A fixture in Berlin's undergrou...   \n",
       "9227   <meta content=\"Ferocious and brave, this debut...   \n",
       "...                                                  ...   \n",
       "16818  <meta content=\"What the hell happened to these...   \n",
       "2791   <meta content=\"Ohio power-pop outfit Connectio...   \n",
       "2978   <meta content=\"Matteah Baim's first solo album...   \n",
       "14867  <meta content=\"Exciting though it may be, the ...   \n",
       "15401  <meta content=\"How minimal is too minimal? Bri...   \n",
       "\n",
       "                                                     url  \\\n",
       "5972   http://pitchfork.com/reviews/albums/16109-bamb...   \n",
       "11444  http://pitchfork.com/reviews/albums/10163-litt...   \n",
       "14201  http://pitchfork.com/reviews/albums/465-i-sold...   \n",
       "11144  http://pitchfork.com/reviews/albums/10478-i-pu...   \n",
       "9227   http://pitchfork.com/reviews/albums/12786-bird...   \n",
       "...                                                  ...   \n",
       "16818  http://pitchfork.com/reviews/albums/5774-winte...   \n",
       "2791   http://pitchfork.com/reviews/albums/19691-conn...   \n",
       "2978   http://pitchfork.com/reviews/albums/19474-matt...   \n",
       "14867  http://pitchfork.com/reviews/albums/1114-fire-...   \n",
       "15401  http://pitchfork.com/reviews/albums/6761-car-p...   \n",
       "\n",
       "                                               sentiment  compound  \n",
       "5972   {'neg': 0.0, 'neu': 0.923, 'pos': 0.077, 'comp...    0.4588  \n",
       "11444  {'neg': 0.0, 'neu': 1.0, 'pos': 0.0, 'compound...    0.0000  \n",
       "14201  {'neg': 0.0, 'neu': 1.0, 'pos': 0.0, 'compound...    0.0000  \n",
       "11144  {'neg': 0.0, 'neu': 1.0, 'pos': 0.0, 'compound...    0.0000  \n",
       "9227   {'neg': 0.069, 'neu': 0.649, 'pos': 0.282, 'co...    0.6808  \n",
       "...                                                  ...       ...  \n",
       "16818  {'neg': 0.167, 'neu': 0.833, 'pos': 0.0, 'comp...   -0.6808  \n",
       "2791   {'neg': 0.0, 'neu': 0.963, 'pos': 0.037, 'comp...    0.0772  \n",
       "2978   {'neg': 0.0, 'neu': 0.896, 'pos': 0.104, 'comp...    0.4404  \n",
       "14867  {'neg': 0.0, 'neu': 1.0, 'pos': 0.0, 'compound...    0.0000  \n",
       "15401  {'neg': 0.0, 'neu': 1.0, 'pos': 0.0, 'compound...    0.0000  \n",
       "\n",
       "[100 rows x 4 columns]"
      ]
     },
     "execution_count": 84,
     "metadata": {},
     "output_type": "execute_result"
    },
    {
     "name": "stdout",
     "output_type": "stream",
     "text": [
      "time: 17.2 ms (started: 2021-12-08 22:38:17 -05:00)\n"
     ]
    }
   ],
   "source": [
    "not_article_body_df"
   ]
  },
  {
   "cell_type": "code",
   "execution_count": 81,
   "id": "56e1c792",
   "metadata": {},
   "outputs": [
    {
     "data": {
      "text/plain": [
       "6400"
      ]
     },
     "execution_count": 81,
     "metadata": {},
     "output_type": "execute_result"
    },
    {
     "name": "stdout",
     "output_type": "stream",
     "text": [
      "time: 3.9 ms (started: 2021-12-08 22:37:38 -05:00)\n"
     ]
    }
   ],
   "source": [
    "article_body_df.memory_usage(index=True).sum()"
   ]
  },
  {
   "cell_type": "markdown",
   "id": "6139b629",
   "metadata": {},
   "source": [
    "The top article body data is 0.0064mb with 100 observations."
   ]
  },
  {
   "cell_type": "code",
   "execution_count": 82,
   "id": "1dd2ca3d",
   "metadata": {},
   "outputs": [
    {
     "data": {
      "text/plain": [
       "4000"
      ]
     },
     "execution_count": 82,
     "metadata": {},
     "output_type": "execute_result"
    },
    {
     "name": "stdout",
     "output_type": "stream",
     "text": [
      "time: 3.96 ms (started: 2021-12-08 22:37:39 -05:00)\n"
     ]
    }
   ],
   "source": [
    "not_article_body_df.memory_usage(index=True).sum()"
   ]
  },
  {
   "cell_type": "markdown",
   "id": "9ac434c6",
   "metadata": {},
   "source": [
    "The not top article data is 0.004mb with 100 observations."
   ]
  },
  {
   "cell_type": "code",
   "execution_count": 73,
   "id": "015e5670",
   "metadata": {},
   "outputs": [
    {
     "name": "stdout",
     "output_type": "stream",
     "text": [
      "time: 62.7 ms (started: 2021-12-08 22:29:42 -05:00)\n"
     ]
    }
   ],
   "source": [
    "#billboard dataframe cont.\n",
    "article_body_df['sentiment'] = article_body_df['body'].apply(apply_sentiment)\n",
    "article_body_df['compound'] = article_body_df['sentiment'].apply(apply_compound)\n",
    "article_body_df['negative'] = article_body_df['sentiment'].apply(apply_negative)\n",
    "article_body_df['peak-rank'] = unique['peak-rank'].iloc[0:300]\n",
    "article_body_df['weeks-on-board'] = unique['weeks-on-board'].iloc[0:300]"
   ]
  },
  {
   "cell_type": "code",
   "execution_count": 74,
   "id": "18669bda",
   "metadata": {},
   "outputs": [
    {
     "data": {
      "text/plain": [
       "<matplotlib.collections.PathCollection at 0x7fe5695022e8>"
      ]
     },
     "execution_count": 74,
     "metadata": {},
     "output_type": "execute_result"
    },
    {
     "data": {
      "image/png": "[encoded data removed]",
      "text/plain": [
       "<Figure size 432x288 with 1 Axes>"
      ]
     },
     "metadata": {
      "needs_background": "light"
     },
     "output_type": "display_data"
    },
    {
     "name": "stdout",
     "output_type": "stream",
     "text": [
      "time: 171 ms (started: 2021-12-08 22:29:43 -05:00)\n"
     ]
    }
   ],
   "source": [
    "#scatterplot of weeks on board and how negative the review was\n",
    "plt.scatter(x= article_body_df['weeks-on-board'],y= article_body_df['negative'])"
   ]
  },
  {
   "cell_type": "code",
   "execution_count": 75,
   "id": "33945d24",
   "metadata": {},
   "outputs": [
    {
     "data": {
      "image/png": "[encoded data removed]",
      "text/plain": [
       "<Figure size 432x288 with 1 Axes>"
      ]
     },
     "metadata": {
      "needs_background": "light"
     },
     "output_type": "display_data"
    },
    {
     "name": "stdout",
     "output_type": "stream",
     "text": [
      "time: 209 ms (started: 2021-12-08 22:29:52 -05:00)\n"
     ]
    }
   ],
   "source": [
    "#histogram comparing the seniment analysis of songs on billboard and songs not\n",
    "on_100 = article_body_df['compound'].hist(density=True, color = 'navy')\n",
    "not_100 = not_article_body_df['compound'].hist(density=True, color = 'green')\n"
   ]
  },
  {
   "cell_type": "markdown",
   "id": "4089674a",
   "metadata": {},
   "source": [
    "**third visual trial hisogram**"
   ]
  },
  {
   "cell_type": "code",
   "execution_count": 76,
   "id": "e6dcfb24",
   "metadata": {},
   "outputs": [
    {
     "data": {
      "image/png": "[encoded data removed]",
      "text/plain": [
       "<Figure size 432x288 with 1 Axes>"
      ]
     },
     "metadata": {
      "needs_background": "light"
     },
     "output_type": "display_data"
    },
    {
     "name": "stdout",
     "output_type": "stream",
     "text": [
      "time: 246 ms (started: 2021-12-08 22:29:54 -05:00)\n"
     ]
    }
   ],
   "source": [
    "#comparing scores\n",
    "u = unique['score'].hist(density=True)\n",
    "n = nottop['score'].hist(density=True)"
   ]
  },
  {
   "cell_type": "code",
   "execution_count": 77,
   "id": "1303a231",
   "metadata": {},
   "outputs": [
    {
     "data": {
      "text/plain": [
       "<matplotlib.collections.PathCollection at 0x7fe569212588>"
      ]
     },
     "execution_count": 77,
     "metadata": {},
     "output_type": "execute_result"
    },
    {
     "data": {
      "image/png": "[encoded data removed]",
      "text/plain": [
       "<Figure size 432x288 with 1 Axes>"
      ]
     },
     "metadata": {
      "needs_background": "light"
     },
     "output_type": "display_data"
    },
    {
     "name": "stdout",
     "output_type": "stream",
     "text": [
      "time: 160 ms (started: 2021-12-08 22:29:56 -05:00)\n"
     ]
    }
   ],
   "source": [
    "#unique['score'].hist(density=True)\n",
    "plt.scatter(x= unique['pub_year'],y= unique['score'])"
   ]
  },
  {
   "cell_type": "code",
   "execution_count": 78,
   "id": "896c2e64",
   "metadata": {},
   "outputs": [
    {
     "data": {
      "text/plain": [
       "<matplotlib.collections.PathCollection at 0x7fe569af2128>"
      ]
     },
     "execution_count": 78,
     "metadata": {},
     "output_type": "execute_result"
    },
    {
     "data": {
      "image/png": "[encoded data removed]",
      "text/plain": [
       "<Figure size 432x288 with 1 Axes>"
      ]
     },
     "metadata": {
      "needs_background": "light"
     },
     "output_type": "display_data"
    },
    {
     "name": "stdout",
     "output_type": "stream",
     "text": [
      "time: 143 ms (started: 2021-12-08 22:29:58 -05:00)\n"
     ]
    }
   ],
   "source": [
    "plt.scatter(x= unique['weeks-on-board'],y= unique['score'])\n",
    "#billboard"
   ]
  },
  {
   "cell_type": "code",
   "execution_count": 80,
   "id": "7eb67de5",
   "metadata": {},
   "outputs": [
    {
     "data": {
      "text/plain": [
       "<matplotlib.collections.PathCollection at 0x7fe5690a8eb8>"
      ]
     },
     "execution_count": 80,
     "metadata": {},
     "output_type": "execute_result"
    },
    {
     "data": {
      "image/png": "[encoded data removed]",
      "text/plain": [
       "<Figure size 432x288 with 1 Axes>"
      ]
     },
     "metadata": {
      "needs_background": "light"
     },
     "output_type": "display_data"
    },
    {
     "name": "stdout",
     "output_type": "stream",
     "text": [
      "time: 137 ms (started: 2021-12-08 22:30:17 -05:00)\n"
     ]
    }
   ],
   "source": [
    "plt.scatter(x= unique['weeks-on-board'],y= unique['peak-rank'],color = 'pink')\n"
   ]
  },
  {
   "cell_type": "code",
   "execution_count": null,
   "id": "1197c506",
   "metadata": {},
   "outputs": [],
   "source": []
  }
 ],
 "metadata": {
  "kernelspec": {
   "display_name": "Python 3",
   "language": "python",
   "name": "python3"
  },
  "language_info": {
   "codemirror_mode": {
    "name": "ipython",
    "version": 3
   },
   "file_extension": ".py",
   "mimetype": "text/x-python",
   "name": "python",
   "nbconvert_exporter": "python",
   "pygments_lexer": "ipython3",
   "version": "3.8.8"
  }
 },
 "nbformat": 4,
 "nbformat_minor": 5
}
