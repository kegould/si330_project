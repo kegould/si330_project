{
 "cells": [
  {
   "cell_type": "code",
   "execution_count": 1,
   "id": "4e51cf37",
   "metadata": {
    "slideshow": {
     "slide_type": "skip"
    }
   },
   "outputs": [],
   "source": [
    "import pandas as pd \n",
    "import sqlite3"
   ]
  },
  {
   "cell_type": "markdown",
   "id": "3e64da38",
   "metadata": {
    "slideshow": {
     "slide_type": "slide"
    }
   },
   "source": [
    "## <font color=\"magenta\"> Problem Statement\n",
    "\n",
    "Are songs on the Billboard Hot 100 more highly reviewed or more highly criticized vs songs that have not appeared on the Billboard Hot 100?"
   ]
  },
  {
   "cell_type": "markdown",
   "id": "f94c0d21",
   "metadata": {
    "slideshow": {
     "slide_type": "slide"
    }
   },
   "source": [
    "## <font color=\"magenta\">  Data \n",
    "\n",
    "To answer this question we pulled in 2 datasets. We pulled in the Billboard Hot 100 JSON data and a Kagel sqlite database containing Pitchfork data which is a popular song review website.\n",
    "\n",
    "We pulled data on song title, artist, weeks on Billboard, peak rank, Pitchfork review body, and other."
   ]
  },
  {
   "cell_type": "code",
   "execution_count": 2,
   "id": "ea758617",
   "metadata": {
    "slideshow": {
     "slide_type": "skip"
    }
   },
   "outputs": [],
   "source": [
    "billboard = pd.read_csv(\"../charts.csv\")"
   ]
  },
  {
   "cell_type": "code",
   "execution_count": 3,
   "id": "18cdf9d9",
   "metadata": {
    "slideshow": {
     "slide_type": "skip"
    }
   },
   "outputs": [],
   "source": [
    "con = sqlite3.connect(\"../database.sqlite\")\n",
    "reviews_df = pd.read_sql_query(\"SELECT * from reviews\", con)\n",
    "con.close()"
   ]
  },
  {
   "cell_type": "markdown",
   "id": "0d66f116",
   "metadata": {
    "slideshow": {
     "slide_type": "skip"
    }
   },
   "source": [
    "## <font color=\"magenta\">  Data Cleaning\n",
    "\n",
    "In this section, we applied functions lower and trip to the artist and song title columns to ensure we may match songs and artists appropriately, without missing any data"
   ]
  },
  {
   "cell_type": "code",
   "execution_count": 4,
   "id": "d5e46b59",
   "metadata": {
    "slideshow": {
     "slide_type": "skip"
    }
   },
   "outputs": [],
   "source": [
    "billboard['artist'] = billboard['artist'].apply(str.lower)\n",
    "billboard['artist'] = billboard['artist'].apply(str.strip)\n",
    "reviews_df['artist'] = reviews_df['artist'].apply(str.lower)\n",
    "reviews_df['artist'] = reviews_df['artist'].apply(str.strip)"
   ]
  },
  {
   "cell_type": "code",
   "execution_count": 5,
   "id": "2e946dc4",
   "metadata": {
    "slideshow": {
     "slide_type": "skip"
    }
   },
   "outputs": [],
   "source": [
    "billboard['song'] = billboard['song'].apply(str.lower)\n",
    "billboard['song'] = billboard['song'].apply(str.strip)\n",
    "reviews_df['title'] = reviews_df['title'].apply(str.lower)\n",
    "reviews_df['title'] = reviews_df['title'].apply(str.strip)"
   ]
  },
  {
   "cell_type": "markdown",
   "id": "6ebcd245",
   "metadata": {
    "slideshow": {
     "slide_type": "skip"
    }
   },
   "source": [
    "## <font color=\"magenta\">  Data Manipulation\n",
    "\n",
    "Here we performed an inner merge on the reviews_df (pitchfork data) and billboard df (billboard data). The merged dataframe is titled merge.\n",
    "\n",
    "We then changed column order to read easier\n",
    "\n",
    "We then dropped url duplicates"
   ]
  },
  {
   "cell_type": "markdown",
   "id": "52a7d008",
   "metadata": {
    "slideshow": {
     "slide_type": "slide"
    }
   },
   "source": [
    "## <font color=\"magenta\">   Analysis\n",
    "\n",
    "To present our analysis, we created a histogram of the percentage of scores for songs that were on the Billboard Top 100 and songs that were not on the Billboard Top 100.\n",
    "\n",
    "From this graph, we can see that there is not a significant difference in scores for the song groups.\n"
   ]
  },
  {
   "cell_type": "markdown",
   "id": "13739965",
   "metadata": {
    "slideshow": {
     "slide_type": "slide"
    }
   },
   "source": [
    "## <font color=\"magenta\"> Songs on Billboard Hot 100 vs Not on the Billboard Hot 100"
   ]
  },
  {
   "cell_type": "code",
   "execution_count": 6,
   "id": "9e9bab55",
   "metadata": {
    "slideshow": {
     "slide_type": "skip"
    }
   },
   "outputs": [],
   "source": [
    "merge = reviews_df.merge(billboard, left_on = \"title\", right_on=\"song\", how=\"inner\")\n",
    "merge['artist'] = merge['artist_y']\n",
    "merge = merge.drop(['artist_x', 'artist_y','title','author_type'], axis=1)"
   ]
  },
  {
   "cell_type": "code",
   "execution_count": 7,
   "id": "aff40d9a",
   "metadata": {
    "slideshow": {
     "slide_type": "skip"
    }
   },
   "outputs": [],
   "source": [
    "cols =  ['date',\n",
    " 'rank',\n",
    " 'song','artist',\n",
    " 'last-week',\n",
    " 'peak-rank',\n",
    " 'weeks-on-board',\n",
    " 'reviewid',\n",
    " 'url',\n",
    " 'score',\n",
    " 'best_new_music',\n",
    " 'author',\n",
    " 'pub_date',\n",
    " 'pub_weekday',\n",
    " 'pub_day',\n",
    " 'pub_month',\n",
    " 'pub_year']"
   ]
  },
  {
   "cell_type": "code",
   "execution_count": 8,
   "id": "60d06cee",
   "metadata": {
    "slideshow": {
     "slide_type": "skip"
    }
   },
   "outputs": [],
   "source": [
    "merge = merge[cols]"
   ]
  },
  {
   "cell_type": "code",
   "execution_count": 9,
   "id": "e5c1c771",
   "metadata": {
    "slideshow": {
     "slide_type": "skip"
    }
   },
   "outputs": [
    {
     "data": {
      "text/html": [
       "<div>\n",
       "<style scoped>\n",
       "    .dataframe tbody tr th:only-of-type {\n",
       "        vertical-align: middle;\n",
       "    }\n",
       "\n",
       "    .dataframe tbody tr th {\n",
       "        vertical-align: top;\n",
       "    }\n",
       "\n",
       "    .dataframe thead th {\n",
       "        text-align: right;\n",
       "    }\n",
       "</style>\n",
       "<table border=\"1\" class=\"dataframe\">\n",
       "  <thead>\n",
       "    <tr style=\"text-align: right;\">\n",
       "      <th></th>\n",
       "      <th>date</th>\n",
       "      <th>rank</th>\n",
       "      <th>song</th>\n",
       "      <th>artist</th>\n",
       "      <th>last-week</th>\n",
       "      <th>peak-rank</th>\n",
       "      <th>weeks-on-board</th>\n",
       "      <th>reviewid</th>\n",
       "      <th>url</th>\n",
       "      <th>score</th>\n",
       "      <th>best_new_music</th>\n",
       "      <th>author</th>\n",
       "      <th>pub_date</th>\n",
       "      <th>pub_weekday</th>\n",
       "      <th>pub_day</th>\n",
       "      <th>pub_month</th>\n",
       "      <th>pub_year</th>\n",
       "    </tr>\n",
       "  </thead>\n",
       "  <tbody>\n",
       "    <tr>\n",
       "      <th>0</th>\n",
       "      <td>2016-12-31</td>\n",
       "      <td>29</td>\n",
       "      <td>4 your eyez only</td>\n",
       "      <td>j. cole</td>\n",
       "      <td>NaN</td>\n",
       "      <td>29</td>\n",
       "      <td>1</td>\n",
       "      <td>22696</td>\n",
       "      <td>http://pitchfork.com/reviews/albums/22696-4-yo...</td>\n",
       "      <td>6.7</td>\n",
       "      <td>0</td>\n",
       "      <td>paul a. thompson</td>\n",
       "      <td>2016-12-14</td>\n",
       "      <td>2</td>\n",
       "      <td>14</td>\n",
       "      <td>12</td>\n",
       "      <td>2016</td>\n",
       "    </tr>\n",
       "    <tr>\n",
       "      <th>3</th>\n",
       "      <td>1975-08-23</td>\n",
       "      <td>90</td>\n",
       "      <td>out of time</td>\n",
       "      <td>the rolling stones</td>\n",
       "      <td>NaN</td>\n",
       "      <td>90</td>\n",
       "      <td>1</td>\n",
       "      <td>22669</td>\n",
       "      <td>http://pitchfork.com/reviews/albums/22669-out-...</td>\n",
       "      <td>8.4</td>\n",
       "      <td>0</td>\n",
       "      <td>evan rytlewski</td>\n",
       "      <td>2016-12-02</td>\n",
       "      <td>4</td>\n",
       "      <td>2</td>\n",
       "      <td>12</td>\n",
       "      <td>2016</td>\n",
       "    </tr>\n",
       "    <tr>\n",
       "      <th>6</th>\n",
       "      <td>1975-08-23</td>\n",
       "      <td>90</td>\n",
       "      <td>out of time</td>\n",
       "      <td>the rolling stones</td>\n",
       "      <td>NaN</td>\n",
       "      <td>90</td>\n",
       "      <td>1</td>\n",
       "      <td>19985</td>\n",
       "      <td>http://pitchfork.com/reviews/albums/19985-houn...</td>\n",
       "      <td>6.8</td>\n",
       "      <td>0</td>\n",
       "      <td>paul thompson</td>\n",
       "      <td>2014-11-26</td>\n",
       "      <td>2</td>\n",
       "      <td>26</td>\n",
       "      <td>11</td>\n",
       "      <td>2014</td>\n",
       "    </tr>\n",
       "    <tr>\n",
       "      <th>47</th>\n",
       "      <td>2016-10-29</td>\n",
       "      <td>5</td>\n",
       "      <td>24k magic</td>\n",
       "      <td>bruno mars</td>\n",
       "      <td>NaN</td>\n",
       "      <td>5</td>\n",
       "      <td>1</td>\n",
       "      <td>22634</td>\n",
       "      <td>http://pitchfork.com/reviews/albums/22634-24k-...</td>\n",
       "      <td>6.2</td>\n",
       "      <td>0</td>\n",
       "      <td>katherine st. asaph</td>\n",
       "      <td>2016-12-02</td>\n",
       "      <td>4</td>\n",
       "      <td>2</td>\n",
       "      <td>12</td>\n",
       "      <td>2016</td>\n",
       "    </tr>\n",
       "    <tr>\n",
       "      <th>77</th>\n",
       "      <td>2016-10-08</td>\n",
       "      <td>40</td>\n",
       "      <td>starboy</td>\n",
       "      <td>the weeknd featuring daft punk</td>\n",
       "      <td>NaN</td>\n",
       "      <td>40</td>\n",
       "      <td>1</td>\n",
       "      <td>22668</td>\n",
       "      <td>http://pitchfork.com/reviews/albums/22668-star...</td>\n",
       "      <td>6.7</td>\n",
       "      <td>0</td>\n",
       "      <td>mehan jayasuriya</td>\n",
       "      <td>2016-11-30</td>\n",
       "      <td>2</td>\n",
       "      <td>30</td>\n",
       "      <td>11</td>\n",
       "      <td>2016</td>\n",
       "    </tr>\n",
       "    <tr>\n",
       "      <th>...</th>\n",
       "      <td>...</td>\n",
       "      <td>...</td>\n",
       "      <td>...</td>\n",
       "      <td>...</td>\n",
       "      <td>...</td>\n",
       "      <td>...</td>\n",
       "      <td>...</td>\n",
       "      <td>...</td>\n",
       "      <td>...</td>\n",
       "      <td>...</td>\n",
       "      <td>...</td>\n",
       "      <td>...</td>\n",
       "      <td>...</td>\n",
       "      <td>...</td>\n",
       "      <td>...</td>\n",
       "      <td>...</td>\n",
       "      <td>...</td>\n",
       "    </tr>\n",
       "    <tr>\n",
       "      <th>22913</th>\n",
       "      <td>2020-05-02</td>\n",
       "      <td>44</td>\n",
       "      <td>pick up</td>\n",
       "      <td>dababy featuring quavo</td>\n",
       "      <td>NaN</td>\n",
       "      <td>44</td>\n",
       "      <td>1</td>\n",
       "      <td>7323</td>\n",
       "      <td>http://pitchfork.com/reviews/albums/7323-pick-up/</td>\n",
       "      <td>7.6</td>\n",
       "      <td>0</td>\n",
       "      <td>s. murray</td>\n",
       "      <td>1999-09-14</td>\n",
       "      <td>1</td>\n",
       "      <td>14</td>\n",
       "      <td>9</td>\n",
       "      <td>1999</td>\n",
       "    </tr>\n",
       "    <tr>\n",
       "      <th>22951</th>\n",
       "      <td>1961-02-20</td>\n",
       "      <td>24</td>\n",
       "      <td>surrender</td>\n",
       "      <td>elvis presley with the jordanaires</td>\n",
       "      <td>NaN</td>\n",
       "      <td>24</td>\n",
       "      <td>1</td>\n",
       "      <td>1412</td>\n",
       "      <td>http://pitchfork.com/reviews/albums/1412-surre...</td>\n",
       "      <td>9.0</td>\n",
       "      <td>0</td>\n",
       "      <td>sarah zupko</td>\n",
       "      <td>1999-06-29</td>\n",
       "      <td>1</td>\n",
       "      <td>29</td>\n",
       "      <td>6</td>\n",
       "      <td>1999</td>\n",
       "    </tr>\n",
       "    <tr>\n",
       "      <th>22955</th>\n",
       "      <td>2020-11-14</td>\n",
       "      <td>92</td>\n",
       "      <td>stay down</td>\n",
       "      <td>lil durk, 6lack &amp; young thug</td>\n",
       "      <td>NaN</td>\n",
       "      <td>92</td>\n",
       "      <td>1</td>\n",
       "      <td>8224</td>\n",
       "      <td>http://pitchfork.com/reviews/albums/8224-stay-...</td>\n",
       "      <td>9.3</td>\n",
       "      <td>0</td>\n",
       "      <td>paul cooper</td>\n",
       "      <td>1999-06-22</td>\n",
       "      <td>1</td>\n",
       "      <td>22</td>\n",
       "      <td>6</td>\n",
       "      <td>1999</td>\n",
       "    </tr>\n",
       "    <tr>\n",
       "      <th>22974</th>\n",
       "      <td>2000-07-29</td>\n",
       "      <td>72</td>\n",
       "      <td>californication</td>\n",
       "      <td>red hot chili peppers</td>\n",
       "      <td>NaN</td>\n",
       "      <td>72</td>\n",
       "      <td>1</td>\n",
       "      <td>6709</td>\n",
       "      <td>http://pitchfork.com/reviews/albums/6709-calif...</td>\n",
       "      <td>6.8</td>\n",
       "      <td>0</td>\n",
       "      <td>brent dicrescenzo</td>\n",
       "      <td>1999-06-08</td>\n",
       "      <td>1</td>\n",
       "      <td>8</td>\n",
       "      <td>6</td>\n",
       "      <td>1999</td>\n",
       "    </tr>\n",
       "    <tr>\n",
       "      <th>22978</th>\n",
       "      <td>2017-10-07</td>\n",
       "      <td>85</td>\n",
       "      <td>dna</td>\n",
       "      <td>bts</td>\n",
       "      <td>NaN</td>\n",
       "      <td>85</td>\n",
       "      <td>1</td>\n",
       "      <td>7119</td>\n",
       "      <td>http://pitchfork.com/reviews/albums/7119-dna/</td>\n",
       "      <td>8.0</td>\n",
       "      <td>0</td>\n",
       "      <td>samir khan</td>\n",
       "      <td>1999-05-04</td>\n",
       "      <td>1</td>\n",
       "      <td>4</td>\n",
       "      <td>5</td>\n",
       "      <td>1999</td>\n",
       "    </tr>\n",
       "  </tbody>\n",
       "</table>\n",
       "<p>861 rows × 17 columns</p>\n",
       "</div>"
      ],
      "text/plain": [
       "             date  rank              song                              artist  \\\n",
       "0      2016-12-31    29  4 your eyez only                             j. cole   \n",
       "3      1975-08-23    90       out of time                  the rolling stones   \n",
       "6      1975-08-23    90       out of time                  the rolling stones   \n",
       "47     2016-10-29     5         24k magic                          bruno mars   \n",
       "77     2016-10-08    40           starboy      the weeknd featuring daft punk   \n",
       "...           ...   ...               ...                                 ...   \n",
       "22913  2020-05-02    44           pick up              dababy featuring quavo   \n",
       "22951  1961-02-20    24         surrender  elvis presley with the jordanaires   \n",
       "22955  2020-11-14    92         stay down        lil durk, 6lack & young thug   \n",
       "22974  2000-07-29    72   californication               red hot chili peppers   \n",
       "22978  2017-10-07    85               dna                                 bts   \n",
       "\n",
       "       last-week  peak-rank  weeks-on-board  reviewid  \\\n",
       "0            NaN         29               1     22696   \n",
       "3            NaN         90               1     22669   \n",
       "6            NaN         90               1     19985   \n",
       "47           NaN          5               1     22634   \n",
       "77           NaN         40               1     22668   \n",
       "...          ...        ...             ...       ...   \n",
       "22913        NaN         44               1      7323   \n",
       "22951        NaN         24               1      1412   \n",
       "22955        NaN         92               1      8224   \n",
       "22974        NaN         72               1      6709   \n",
       "22978        NaN         85               1      7119   \n",
       "\n",
       "                                                     url  score  \\\n",
       "0      http://pitchfork.com/reviews/albums/22696-4-yo...    6.7   \n",
       "3      http://pitchfork.com/reviews/albums/22669-out-...    8.4   \n",
       "6      http://pitchfork.com/reviews/albums/19985-houn...    6.8   \n",
       "47     http://pitchfork.com/reviews/albums/22634-24k-...    6.2   \n",
       "77     http://pitchfork.com/reviews/albums/22668-star...    6.7   \n",
       "...                                                  ...    ...   \n",
       "22913  http://pitchfork.com/reviews/albums/7323-pick-up/    7.6   \n",
       "22951  http://pitchfork.com/reviews/albums/1412-surre...    9.0   \n",
       "22955  http://pitchfork.com/reviews/albums/8224-stay-...    9.3   \n",
       "22974  http://pitchfork.com/reviews/albums/6709-calif...    6.8   \n",
       "22978      http://pitchfork.com/reviews/albums/7119-dna/    8.0   \n",
       "\n",
       "       best_new_music               author    pub_date  pub_weekday  pub_day  \\\n",
       "0                   0     paul a. thompson  2016-12-14            2       14   \n",
       "3                   0       evan rytlewski  2016-12-02            4        2   \n",
       "6                   0        paul thompson  2014-11-26            2       26   \n",
       "47                  0  katherine st. asaph  2016-12-02            4        2   \n",
       "77                  0     mehan jayasuriya  2016-11-30            2       30   \n",
       "...               ...                  ...         ...          ...      ...   \n",
       "22913               0            s. murray  1999-09-14            1       14   \n",
       "22951               0          sarah zupko  1999-06-29            1       29   \n",
       "22955               0          paul cooper  1999-06-22            1       22   \n",
       "22974               0    brent dicrescenzo  1999-06-08            1        8   \n",
       "22978               0           samir khan  1999-05-04            1        4   \n",
       "\n",
       "       pub_month  pub_year  \n",
       "0             12      2016  \n",
       "3             12      2016  \n",
       "6             11      2014  \n",
       "47            12      2016  \n",
       "77            11      2016  \n",
       "...          ...       ...  \n",
       "22913          9      1999  \n",
       "22951          6      1999  \n",
       "22955          6      1999  \n",
       "22974          6      1999  \n",
       "22978          5      1999  \n",
       "\n",
       "[861 rows x 17 columns]"
      ]
     },
     "execution_count": 9,
     "metadata": {},
     "output_type": "execute_result"
    }
   ],
   "source": [
    "merge.drop_duplicates(subset=['url'],keep='last')"
   ]
  },
  {
   "cell_type": "code",
   "execution_count": 10,
   "id": "a14b31af",
   "metadata": {
    "slideshow": {
     "slide_type": "skip"
    }
   },
   "outputs": [],
   "source": [
    "unique = merge.drop_duplicates(subset =\"song\")"
   ]
  },
  {
   "cell_type": "code",
   "execution_count": 11,
   "id": "b4d7e3f5",
   "metadata": {},
   "outputs": [],
   "source": [
    "nottop = reviews_df[~reviews_df['title'].isin(billboard['song'])]\n",
    "nottop = nottop.drop_duplicates(subset=['url'],keep='last')"
   ]
  },
  {
   "cell_type": "markdown",
   "id": "e25366c8",
   "metadata": {},
   "source": [
    "## <font color=\"magenta\"> Graphs"
   ]
  },
  {
   "cell_type": "code",
   "execution_count": 12,
   "id": "2d2ff446",
   "metadata": {},
   "outputs": [],
   "source": [
    "import matplotlib.pyplot as plt\n",
    "%matplotlib inline"
   ]
  },
  {
   "cell_type": "code",
   "execution_count": 13,
   "id": "335dbeb7",
   "metadata": {},
   "outputs": [
    {
     "data": {
      "text/plain": [
       "(701, 17)"
      ]
     },
     "execution_count": 13,
     "metadata": {},
     "output_type": "execute_result"
    }
   ],
   "source": [
    "unique.shape"
   ]
  },
  {
   "cell_type": "code",
   "execution_count": 14,
   "id": "46b47282",
   "metadata": {},
   "outputs": [],
   "source": [
    "not_top_sample = nottop.sample(701)"
   ]
  },
  {
   "cell_type": "code",
   "execution_count": 15,
   "id": "43bfadcf",
   "metadata": {},
   "outputs": [],
   "source": [
    "rating_top = unique.score.to_list()\n",
    "id_top = unique.reviewid.to_list()"
   ]
  },
  {
   "cell_type": "code",
   "execution_count": null,
   "id": "c171ee4e",
   "metadata": {},
   "outputs": [],
   "source": [
    "rating_nottop = not_top_sample.score.to_list()\n",
    "not_id = not_top_sample.reviewid.to_list()"
   ]
  },
  {
   "cell_type": "markdown",
   "id": "fa6820b9",
   "metadata": {},
   "source": [
    "## Goal:\n",
    "Are songs on the billboard Hot 100 ranked higher than songs not on the chart?"
   ]
  },
  {
   "cell_type": "code",
   "execution_count": 17,
   "id": "738f6e2b",
   "metadata": {
    "slideshow": {
     "slide_type": "fragment"
    }
   },
   "outputs": [
    {
     "data": {
      "text/plain": [
       "Text(0, 0.5, 'Pitch fork Rating')"
      ]
     },
     "execution_count": 17,
     "metadata": {},
     "output_type": "execute_result"
    },
    {
     "data": {
      "image/png": "[encoded data removed]",
      "text/plain": [
       "<Figure size 432x288 with 1 Axes>"
      ]
     },
     "metadata": {
      "needs_background": "light"
     },
     "output_type": "display_data"
    }
   ],
   "source": [
    "plt.scatter(x= not_id, y = rating_nottop)\n",
    "plt.title('Pitchfork ID and Rating for Songs NOT on the Billboard Hot 100')\n",
    "plt.xlabel('Pitchfork ID Score')\n",
    "plt.ylabel('Pitch fork Rating')"
   ]
  },
  {
   "cell_type": "code",
   "execution_count": 18,
   "id": "0abfdfa7",
   "metadata": {
    "slideshow": {
     "slide_type": "fragment"
    }
   },
   "outputs": [
    {
     "data": {
      "text/plain": [
       "Text(0, 0.5, 'Pitch fork Rating')"
      ]
     },
     "execution_count": 18,
     "metadata": {},
     "output_type": "execute_result"
    },
    {
     "data": {
      "image/png": "[encoded data removed]",
      "text/plain": [
       "<Figure size 432x288 with 1 Axes>"
      ]
     },
     "metadata": {
      "needs_background": "light"
     },
     "output_type": "display_data"
    }
   ],
   "source": [
    "plt.scatter(x= id_top , y = rating_top )\n",
    "plt.title('Pitchfork ID and Rating for Songs on the Billboard Hot 100')\n",
    "plt.xlabel('Pitchfork ID Score')\n",
    "plt.ylabel('Pitch fork Rating')"
   ]
  },
  {
   "cell_type": "markdown",
   "id": "7b06532b",
   "metadata": {},
   "source": [
    "## Goal:\n",
    "Is there a Correlation between the location of a song on billboard hot 100 charts and pitchfork score"
   ]
  },
  {
   "cell_type": "code",
   "execution_count": 24,
   "id": "161c6f78",
   "metadata": {},
   "outputs": [],
   "source": [
    "sampled_billboard = unique.sample(100)"
   ]
  },
  {
   "cell_type": "code",
   "execution_count": 25,
   "id": "c491b9b9",
   "metadata": {},
   "outputs": [],
   "source": [
    "rating_billboardsample = sampled_billboard.score.to_list()\n",
    "sampled_billboard_rank = sampled_billboard['peak-rank'].to_list()"
   ]
  },
  {
   "cell_type": "code",
   "execution_count": 26,
   "id": "55ac19ce",
   "metadata": {},
   "outputs": [
    {
     "data": {
      "text/plain": [
       "Text(0, 0.5, 'Pitch fork Rating')"
      ]
     },
     "execution_count": 26,
     "metadata": {},
     "output_type": "execute_result"
    },
    {
     "data": {
      "image/png": "[encoded data removed]",
      "text/plain": [
       "<Figure size 432x288 with 1 Axes>"
      ]
     },
     "metadata": {
      "needs_background": "light"
     },
     "output_type": "display_data"
    }
   ],
   "source": [
    "plt.scatter(x=  sampled_billboard_rank , y = rating_billboardsample )\n",
    "plt.title(\"Correlation of Billboard Hot 100 rank in relation to Pitchfork Score\")\n",
    "plt.xlabel('Peak Billboard Rank')\n",
    "plt.ylabel('Pitch fork Rating')"
   ]
  },
  {
   "cell_type": "code",
   "execution_count": null,
   "id": "5b784087",
   "metadata": {},
   "outputs": [],
   "source": []
  }
 ],
 "metadata": {
  "celltoolbar": "Slideshow",
  "kernelspec": {
   "display_name": "Python 3",
   "language": "python",
   "name": "python3"
  },
  "language_info": {
   "codemirror_mode": {
    "name": "ipython",
    "version": 3
   },
   "file_extension": ".py",
   "mimetype": "text/x-python",
   "name": "python",
   "nbconvert_exporter": "python",
   "pygments_lexer": "ipython3",
   "version": "3.6.13"
  }
 },
 "nbformat": 4,
 "nbformat_minor": 5
}
